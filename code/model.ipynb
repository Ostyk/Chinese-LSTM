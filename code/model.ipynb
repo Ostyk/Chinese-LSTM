{
 "cells": [
  {
   "cell_type": "markdown",
   "metadata": {},
   "source": [
    "# Allowed libraries\n",
    "- Tensorflow (compatible with 1.12.x)\n",
    "- Numpy\n",
    "- Sklearn\n",
    "- nltk\n",
    "- Maplotlib\n",
    "- gensim\n",
    "- All the standard libraries\n",
    " "
   ]
  },
  {
   "cell_type": "markdown",
   "metadata": {},
   "source": [
    "https://medium.com/the-artificial-impostor/nlp-four-ways-to-tokenize-chinese-documents-f349eb6ba3c3\n",
    "\n",
    "https://stanfordnlp.github.io/CoreNLP/download.html"
   ]
  },
  {
   "cell_type": "code",
   "execution_count": 1,
   "metadata": {},
   "outputs": [
    {
     "name": "stderr",
     "output_type": "stream",
     "text": [
      "/Library/Frameworks/Python.framework/Versions/3.6/lib/python3.6/site-packages/h5py/__init__.py:36: FutureWarning: Conversion of the second argument of issubdtype from `float` to `np.floating` is deprecated. In future, it will be treated as `np.float64 == np.dtype(float).type`.\n",
      "  from ._conv import register_converters as _register_converters\n"
     ]
    }
   ],
   "source": [
    "import os\n",
    "import numpy as np\n",
    "from typing import Tuple, List, Dict\n",
    "\n",
    "import tensorflow as tf\n",
    "import tensorflow.keras as K\n",
    "from tensorflow.keras.preprocessing.sequence import pad_sequences, TimeseriesGenerator\n",
    "\n",
    "from sklearn.preprocessing import OneHotEncoder\n",
    "from sklearn.model_selection import train_test_split"
   ]
  },
  {
   "cell_type": "code",
   "execution_count": null,
   "metadata": {},
   "outputs": [],
   "source": []
  },
  {
   "cell_type": "code",
   "execution_count": null,
   "metadata": {},
   "outputs": [],
   "source": []
  },
  {
   "cell_type": "code",
   "execution_count": 2,
   "metadata": {},
   "outputs": [
    {
     "name": "stdout",
     "output_type": "stream",
     "text": [
      "Choose from the following\n",
      "['msr', 'cityu', 'as', 'pku']\n",
      "pku\n",
      "../icwb2-data/training/pku_training_simplified_LabelFile.utf8 ../icwb2-data/training/pku_training_simplified_InputFile.utf8\n"
     ]
    }
   ],
   "source": [
    "def ChooseDataset():\n",
    "    '''returns paths to Label and Input file for a specific dataset'''\n",
    "    \n",
    "    '''\n",
    "    args: set_type, subset\n",
    "    return: returns paths to Label and Input file\n",
    "    '''\n",
    "    datasets = {\"training\":'../icwb2-data/training',\n",
    "                 \"dev\":'../icwb2-data/gold',\n",
    "                 \"testing\":'../icwb2-data/testing'}\n",
    "        \n",
    "    def get_file_names(path, type_='LabelFile'):\n",
    "        x = []\n",
    "        for i in os.listdir(path):\n",
    "            if os.path.splitext(i)[0].split(\"_\")[-1] == type_:\n",
    "                x.append(os.path.join(path, i))\n",
    "        return x\n",
    "    Label_files = get_file_names(path = datasets['training'], type_ = 'LabelFile')\n",
    "    Input_files = get_file_names(path = datasets['training'], type_ = 'InputFile')\n",
    "    \n",
    "    e, r = False, False\n",
    "    chosen = False\n",
    "    while not chosen:\n",
    "        print(\"Choose from the following\")\n",
    "        print(names)\n",
    "        x = input(\"\")\n",
    "        for i in range(4):\n",
    "            #print(choose(Input_files[i]))\n",
    "            if choose(Input_files[i]) == x: \n",
    "                Input_file = Input_files[i]\n",
    "                e = True\n",
    "            if choose(Label_files[i]) == x:\n",
    "                Label_file = Label_files[i]\n",
    "                r = True\n",
    "            if e and r:\n",
    "                chosen = True\n",
    "            \n",
    "    return Label_file, Input_file"
   ]
  },
  {
   "cell_type": "code",
   "execution_count": 16,
   "metadata": {},
   "outputs": [],
   "source": [
    "class CreateDataset(object):\n",
    "    '''makes feed files of combined unigrams and bigrams'''\n",
    "    def __init__(self, LabelFile_path, InputFile_path):\n",
    "        self.Label_File = LabelFile_path\n",
    "        self.Input_File = InputFile_path\n",
    "    \n",
    "    def DateGen(self):\n",
    "        '''creates labels from the label file'''\n",
    "        \n",
    "        features_vectors = self.FeatureGenerator() \n",
    "        labels = self.BIESToNumerical()\n",
    "        \n",
    "        Optimal_Line_Length = int(np.mean([len(i) for i in features_vectors])) #length of longest line\n",
    "        \n",
    "        print(\"MAXLEN: {}\".format(Optimal_Line_Length)) \n",
    "        padded_labels = pad_sequences(labels, truncating='pre', padding='post', maxlen = Optimal_Line_Length)\n",
    "        \n",
    "        y =  K.utils.to_categorical(padded_labels, num_classes=4)\n",
    "        X = pad_sequences(features_vectors, truncating='pre', padding='post', maxlen = Optimal_Line_Length)\n",
    "        \n",
    "        return X, y\n",
    "    \n",
    "    def BIESToNumerical(self):\n",
    "        '''Converts Label File from BIES encoding to numerical classes'''\n",
    "        BIES = {'B' : 0, 'I' : 1, 'E' : 2, 'S' : 3}\n",
    "        #numerical BIES class given to a line \n",
    "        labels = []\n",
    "        with open(self.Label_File, 'r', encoding ='utf8') as f1:\n",
    "            count = 0\n",
    "            for line in f1:\n",
    "                l = line.rstrip()\n",
    "                labels.append([BIES[i] for i in l])\n",
    "        return labels\n",
    "    \n",
    "    def FeatureGenerator(self):\n",
    "        '''Generates features based on '''\n",
    "        features_vectors = []\n",
    "        word_to_index = self.generateVocab()\n",
    "        with open(self.Input_File, 'r', encoding ='utf8') as f1:\n",
    "            for line in f1:\n",
    "                l = line.rstrip()\n",
    "                grams = self.split_into_grams(l, 'uni_grams') + self.split_into_grams(l,'bi_grams')\n",
    "\n",
    "                #difference is creating by grams line by line\n",
    "                features_vectors.append([word_to_index[i] for i in grams])\n",
    "        \n",
    "        return features_vectors\n",
    "    \n",
    "    def generateVocab(self):\n",
    "        '''\n",
    "        Generates vocabulary based on file\n",
    "        args: Inputfile, returns: word_to_index dict\n",
    "        '''\n",
    "        big_line = ''\n",
    "        with open(self.Input_File, 'r', encoding ='utf8') as f1:\n",
    "            for line in f1:\n",
    "                big_line+=line.rstrip()\n",
    "        final = self.split_into_grams(big_line, type_ = 'bi_grams') + self.split_into_grams(big_line, type_ = 'uni_grams')\n",
    "        vocab = set(final)\n",
    "        word_to_index = {value:key for key,value in enumerate(vocab)}\n",
    "        word_to_index['UNK'] = 0\n",
    "        \n",
    "        \n",
    "        return word_to_index\n",
    "        \n",
    "    \n",
    "    @staticmethod\n",
    "    def split_into_grams(sentence: str, type_ = 'uni_grams') -> List[str]:\n",
    "        \"\"\"\n",
    "        :param sentence Sentence as str\n",
    "        :type_: uni_grams or _bigrams\n",
    "        :return bigrams List of unigrams or bigrams\n",
    "        \"\"\"\n",
    "        n = 1 if type_ == 'uni_grams' else 2\n",
    "        grams = []\n",
    "        for i in range(len(sentence)-1):\n",
    "            gram = sentence[i:i+n]\n",
    "            grams.append(gram)\n",
    "        return grams\n",
    "\n",
    "    "
   ]
  },
  {
   "cell_type": "code",
   "execution_count": null,
   "metadata": {},
   "outputs": [],
   "source": []
  },
  {
   "cell_type": "code",
   "execution_count": null,
   "metadata": {},
   "outputs": [],
   "source": [
    "Label_file, Input_file = ChooseDataset(\"training\",\"pku\")"
   ]
  },
  {
   "cell_type": "code",
   "execution_count": 17,
   "metadata": {},
   "outputs": [],
   "source": [
    "A = CreateDataset(Label_file, Input_file)"
   ]
  },
  {
   "cell_type": "code",
   "execution_count": 18,
   "metadata": {},
   "outputs": [
    {
     "name": "stdout",
     "output_type": "stream",
     "text": [
      "MAXLEN: 189\n"
     ]
    }
   ],
   "source": [
    "X, y = A.DateGen()"
   ]
  },
  {
   "cell_type": "code",
   "execution_count": 19,
   "metadata": {},
   "outputs": [
    {
     "data": {
      "text/plain": [
       "(19056, 189, 4)"
      ]
     },
     "execution_count": 19,
     "metadata": {},
     "output_type": "execute_result"
    }
   ],
   "source": [
    "\n",
    "y.shape"
   ]
  },
  {
   "cell_type": "code",
   "execution_count": null,
   "metadata": {},
   "outputs": [],
   "source": []
  },
  {
   "cell_type": "code",
   "execution_count": 20,
   "metadata": {},
   "outputs": [
    {
     "ename": "NameError",
     "evalue": "name 'ChooseDataset' is not defined",
     "output_type": "error",
     "traceback": [
      "\u001b[0;31m---------------------------------------------------------------------------\u001b[0m",
      "\u001b[0;31mNameError\u001b[0m                                 Traceback (most recent call last)",
      "\u001b[0;32m<ipython-input-20-b058462bfd85>\u001b[0m in \u001b[0;36m<module>\u001b[0;34m()\u001b[0m\n\u001b[0;32m----> 1\u001b[0;31m \u001b[0mLabel_file\u001b[0m\u001b[0;34m,\u001b[0m \u001b[0mInput_file\u001b[0m \u001b[0;34m=\u001b[0m \u001b[0mChooseDataset\u001b[0m\u001b[0;34m(\u001b[0m\u001b[0;34m\"training\"\u001b[0m\u001b[0;34m,\u001b[0m\u001b[0;34m\"pku\"\u001b[0m\u001b[0;34m)\u001b[0m\u001b[0;34m\u001b[0m\u001b[0m\n\u001b[0m",
      "\u001b[0;31mNameError\u001b[0m: name 'ChooseDataset' is not defined"
     ]
    }
   ],
   "source": [
    "Label_file, Input_file = ChooseDataset(\"training\",\"pku\")"
   ]
  },
  {
   "cell_type": "code",
   "execution_count": null,
   "metadata": {},
   "outputs": [],
   "source": [
    "datasets = {\"training\":'../icwb2-data/training',\n",
    "             \"dev\":'../icwb2-data/gold',\n",
    "             \"testing\":'../icwb2-data/testing'}"
   ]
  },
  {
   "cell_type": "code",
   "execution_count": null,
   "metadata": {},
   "outputs": [],
   "source": [
    "def get_file_names(path, type_='LabelFile'):\n",
    "    x = []\n",
    "    for i in os.listdir(path):\n",
    "        if os.path.splitext(i)[0].split(\"_\")[-1] == type_:\n",
    "            x.append(os.path.join(path, i))\n",
    "    return x\n",
    "\n",
    "Label_files = get_file_names(path = datasets['training'], type_ = 'LabelFile')\n",
    "Input_files = get_file_names(path = datasets['training'], type_ = 'InputFile')"
   ]
  },
  {
   "cell_type": "code",
   "execution_count": null,
   "metadata": {},
   "outputs": [],
   "source": [
    "names = ['msr','cityu','as','pku']\n",
    "choose = lambda i: i.split(\".utf8\")[0].split('/')[-1].split(\"_\")[0]\n",
    "\n",
    "e, r = False, False\n",
    "chosen = False\n",
    "while not chosen:\n",
    "    print(\"Choose from the following\")\n",
    "    print(names)\n",
    "    x = input(\"\")\n",
    "    for i in range(4):\n",
    "        print(choose(Input_files[i]))\n",
    "        if choose(Input_files[i]) == x: \n",
    "            Input_file = Input_files[i]\n",
    "            e = True\n",
    "        if choose(Label_files[i]) == x:\n",
    "            Label_file = Label_files[i]\n",
    "            r = True\n",
    "        if e and r:\n",
    "            chosen = True\n",
    "            print(\"CHOSEN {}\".format(x))\n",
    "    \n",
    "    \n",
    "print(Label_file, Input_file)"
   ]
  },
  {
   "cell_type": "code",
   "execution_count": null,
   "metadata": {},
   "outputs": [],
   "source": [
    "\n",
    "\n",
    "def split_into_grams(sentence: str, type_ = 'uni_grams') -> List[str]:\n",
    "    \"\"\"\n",
    "    :param sentence Sentence as str\n",
    "    :type_: uni_grams or _bigrams\n",
    "    :return bigrams List of unigrams or bigrams\n",
    "    \"\"\"\n",
    "    n = 1 if type_ == 'uni_grams' else 2\n",
    "    grams = []\n",
    "    for i in range(len(sentence)-1):\n",
    "        gram = sentence[i:i+n]\n",
    "        grams.append(gram)\n",
    "    return grams\n"
   ]
  },
  {
   "cell_type": "code",
   "execution_count": null,
   "metadata": {},
   "outputs": [],
   "source": [
    "big_line = ''\n",
    "\n",
    "with open(Input_file, 'r', encoding ='utf8') as f1:\n",
    "    for line in f1:\n",
    "        big_line+=line.rstrip()\n",
    "        \n",
    "final = split_into_grams(big_line, type_ = 'bi_grams') + split_into_grams(big_line, type_ = 'uni_grams')\n"
   ]
  },
  {
   "cell_type": "code",
   "execution_count": null,
   "metadata": {},
   "outputs": [],
   "source": [
    "# file_ = \"../icwb2-data/training/pku_training_simplified_InputFile_FEED.utf8\"\n",
    "# with open(file_, 'w') as t:\n",
    "#     for item in final:\n",
    "#         t.write(\"%s\\n\" % item)"
   ]
  },
  {
   "cell_type": "code",
   "execution_count": null,
   "metadata": {},
   "outputs": [],
   "source": [
    "# final_1 = []\n",
    "# with open(file_, 'r', encoding ='utf8') as f1:\n",
    "#     for line in f1:\n",
    "#         final_1.append(line.rstrip())"
   ]
  },
  {
   "cell_type": "code",
   "execution_count": null,
   "metadata": {},
   "outputs": [],
   "source": [
    "vocab = set(final)"
   ]
  },
  {
   "cell_type": "code",
   "execution_count": null,
   "metadata": {},
   "outputs": [],
   "source": [
    "word_to_index = {value:key for key,value in enumerate(vocab)}\n",
    "word_to_index['UNK'] = 0"
   ]
  },
  {
   "cell_type": "code",
   "execution_count": null,
   "metadata": {},
   "outputs": [],
   "source": [
    "len(vocab)"
   ]
  },
  {
   "cell_type": "code",
   "execution_count": 6,
   "metadata": {},
   "outputs": [
    {
     "ename": "NameError",
     "evalue": "name 'word_to_index' is not defined",
     "output_type": "error",
     "traceback": [
      "\u001b[0;31m---------------------------------------------------------------------------\u001b[0m",
      "\u001b[0;31mNameError\u001b[0m                                 Traceback (most recent call last)",
      "\u001b[0;32m<ipython-input-6-a5a810e6d1d8>\u001b[0m in \u001b[0;36m<module>\u001b[0;34m()\u001b[0m\n\u001b[0;32m----> 1\u001b[0;31m \u001b[0mword_to_index\u001b[0m\u001b[0;34m\u001b[0m\u001b[0m\n\u001b[0m",
      "\u001b[0;31mNameError\u001b[0m: name 'word_to_index' is not defined"
     ]
    }
   ],
   "source": [
    "word_to_index"
   ]
  },
  {
   "cell_type": "markdown",
   "metadata": {},
   "source": [
    "# creating feature vectors"
   ]
  },
  {
   "cell_type": "code",
   "execution_count": null,
   "metadata": {},
   "outputs": [],
   "source": [
    "#number assigned to a unigram or bigram in a sentence  based on the dictionary created earlier\n",
    "#one feature vector are the numbers from a sentence (line of the Input file)\n",
    "\n",
    "features_vectors = []\n",
    "with open(Input_file, 'r', encoding ='utf8') as f1:\n",
    "    for line in f1:\n",
    "        l = line.rstrip()\n",
    "        grams = split_into_grams(l, 'uni_grams') + split_into_grams(l,'bi_grams')\n",
    "\n",
    "        #difference is creating by grams line by line\n",
    "        features_vectors.append([word_to_index[i] for i in grams])"
   ]
  },
  {
   "cell_type": "code",
   "execution_count": null,
   "metadata": {},
   "outputs": [],
   "source": [
    "def OHE(label):\n",
    "    label = label.reshape(-1, 1)\n",
    "    enc = OneHotEncoder(categories='auto')\n",
    "    enc.fit(label)\n",
    "    return enc.transform(label).toarray()\n"
   ]
  },
  {
   "cell_type": "code",
   "execution_count": null,
   "metadata": {
    "scrolled": true
   },
   "outputs": [],
   "source": [
    "BIES = {'B' : 0, 'I' : 1, 'E' : 2, 'S' : 3}\n",
    "#numerical BIES class given to a line \n",
    "labels = []\n",
    "with open(Label_file, 'r', encoding ='utf8') as f1:\n",
    "    count = 0\n",
    "    for line in f1:\n",
    "        l = line.rstrip()\n",
    "        labels.append([BIES[i] for i in l])"
   ]
  },
  {
   "cell_type": "code",
   "execution_count": null,
   "metadata": {},
   "outputs": [],
   "source": [
    "TO_BE_FOUND = int(np.mean([len(i) for i in features_vectors])) #length of longest line\n",
    "print(\"MAXLEN: {}\".format(TO_BE_FOUND))"
   ]
  },
  {
   "cell_type": "code",
   "execution_count": null,
   "metadata": {},
   "outputs": [],
   "source": [
    "padded_labels = pad_sequences(labels, truncating='pre', padding='post', maxlen = TO_BE_FOUND)\n",
    "y =  K.utils.to_categorical(padded_labels, num_classes=4)"
   ]
  },
  {
   "cell_type": "code",
   "execution_count": null,
   "metadata": {},
   "outputs": [],
   "source": [
    "X = pad_sequences(features_vectors, truncating='pre', padding='post', maxlen = TO_BE_FOUND)"
   ]
  },
  {
   "cell_type": "markdown",
   "metadata": {},
   "source": [
    "### N_lines $\\times$ charecters per line (padded)  $\\times$ class from OneHotEncoding"
   ]
  },
  {
   "cell_type": "code",
   "execution_count": null,
   "metadata": {},
   "outputs": [],
   "source": [
    "y.shape"
   ]
  },
  {
   "cell_type": "markdown",
   "metadata": {},
   "source": [
    "### N_lines $\\times$ charecters per line (padded)"
   ]
  },
  {
   "cell_type": "code",
   "execution_count": null,
   "metadata": {},
   "outputs": [],
   "source": [
    "X.shape\n"
   ]
  },
  {
   "cell_type": "markdown",
   "metadata": {},
   "source": [
    "# model"
   ]
  },
  {
   "cell_type": "code",
   "execution_count": null,
   "metadata": {},
   "outputs": [],
   "source": [
    "#DEFINE SOME COSTANTS\n",
    "MAX_LENGTH = 88\n",
    "VOCAB_SIZE = len(vocab)\n",
    "EMBEDDING_SIZE = 32\n",
    "HIDDEN_SIZE = 256\n"
   ]
  },
  {
   "cell_type": "code",
   "execution_count": null,
   "metadata": {},
   "outputs": [],
   "source": []
  },
  {
   "cell_type": "markdown",
   "metadata": {},
   "source": [
    "https://github.com/keras-team/keras/issues/1029 \n",
    "\n",
    "Explains Timedistributed in many-to-many models"
   ]
  },
  {
   "cell_type": "code",
   "execution_count": null,
   "metadata": {},
   "outputs": [],
   "source": [
    "TO_BE_FOUND"
   ]
  },
  {
   "cell_type": "code",
   "execution_count": null,
   "metadata": {},
   "outputs": [],
   "source": []
  },
  {
   "cell_type": "code",
   "execution_count": null,
   "metadata": {},
   "outputs": [],
   "source": [
    "def create_keras_model(vocab_size, embedding_size, hidden_size, TO_BE_FOUND):\n",
    "    print(\"Creating KERAS model\")\n",
    "    \n",
    "    model = K.models.Sequential()\n",
    "    # remember to set mask_zero=True or the model consider the padding as a valid timestep!\n",
    "    model.add(K.layers.Embedding(vocab_size, embedding_size, mask_zero=True, input_length = TO_BE_FOUND))\n",
    "    #add a LSTM layer with some dropout in it\n",
    "    model.add(K.layers.LSTM(hidden_size, dropout=0.2, recurrent_dropout=0.2, return_sequences=True))\n",
    "    # add a dense layer with sigmoid to get a probability value from 0.0 to 1.0s\n",
    "    model.add(K.layers.TimeDistributed(K.layers.Dense(4, activation='softmax')))\n",
    "    #time distribution\n",
    "    # we are going to use the Adam optimizer which is a really powerful optimizer.\n",
    "    #optimizer = K.optimizers.Adam()\n",
    "    model.compile(loss='categorical_crossentropy', optimizer='rmsprop', metrics=['acc'])\n",
    "\n",
    "    return model"
   ]
  },
  {
   "cell_type": "code",
   "execution_count": null,
   "metadata": {},
   "outputs": [],
   "source": [
    "def create_keras_model(vocab_size, embedding_size, hidden_size, TO_BE_FOUND):\n",
    "    print(\"Creating KERAS model\")\n",
    "    \n",
    "    model = K.models.Sequential()\n",
    "    # remember to set mask_zero=True or the model consider the padding as a valid timestep!\n",
    "    model.add(K.layers.Embedding(vocab_size, embedding_size, mask_zero=True, input_length = TO_BE_FOUND))\n",
    "    #add a LSTM layer with some dropout in it\n",
    "    model.add(K.layers.LSTM(hidden_size, dropout=0.2, recurrent_dropout=0.2, return_sequences=True))\n",
    "    # add a dense layer with sigmoid to get a probability value from 0.0 to 1.0s\n",
    "    model.add(K.layers.TimeDistributed(K.layers.Dense(4, activation='softmax')))\n",
    "    #time distribution\n",
    "    # we are going to use the Adam optimizer which is a really powerful optimizer.\n",
    "    #optimizer = K.optimizers.Adam()\n",
    "    model.compile(loss='categorical_crossentropy', optimizer='rmsprop', metrics=['acc'])\n",
    "\n",
    "    return model"
   ]
  },
  {
   "cell_type": "code",
   "execution_count": null,
   "metadata": {},
   "outputs": [],
   "source": []
  },
  {
   "cell_type": "code",
   "execution_count": null,
   "metadata": {},
   "outputs": [],
   "source": [
    "batch_size = 32\n",
    "epochs = 10\n",
    "model = create_keras_model(VOCAB_SIZE, EMBEDDING_SIZE, HIDDEN_SIZE, TO_BE_FOUND)\n",
    "# Let's print a summary of the model\n",
    "model.summary()"
   ]
  },
  {
   "cell_type": "code",
   "execution_count": null,
   "metadata": {},
   "outputs": [],
   "source": [
    "cbk = K.callbacks.TensorBoard(\"logging/keras_model\")\n",
    "print(\"\\nStarting training...\")"
   ]
  },
  {
   "cell_type": "code",
   "execution_count": null,
   "metadata": {},
   "outputs": [],
   "source": [
    "percent = 10\n",
    "size = int(len(X)/(1-percent))\n",
    "X_train = X[:2000]\n",
    "y_train = y[:2000]\n",
    "dev_x = X[-300:]\n",
    "dev_y = y[-300:]"
   ]
  },
  {
   "cell_type": "code",
   "execution_count": null,
   "metadata": {},
   "outputs": [],
   "source": [
    "print(\"X train {}\".format(X_train.shape))\n",
    "print(\"y train {}\".format(y_train.shape))\n",
    "print(\"X dev {}\".format(dev_x.shape))\n",
    "print(\"y dev {}\".format(dev_y.shape))"
   ]
  },
  {
   "cell_type": "code",
   "execution_count": null,
   "metadata": {},
   "outputs": [],
   "source": []
  },
  {
   "cell_type": "code",
   "execution_count": null,
   "metadata": {},
   "outputs": [],
   "source": [
    "\n",
    "model.fit(X_train, y_train, epochs=epochs, batch_size=batch_size,\n",
    "          shuffle=True, validation_data=(dev_x, dev_y), callbacks=[cbk]) \n",
    "print(\"Training complete.\\n\")\n",
    "\n"
   ]
  },
  {
   "cell_type": "code",
   "execution_count": null,
   "metadata": {},
   "outputs": [],
   "source": [
    "#print(\"\\nEvaluating test...\")\n",
    "#loss_acc = model.evaluate(test_x, test_y, verbose=0)\n",
    "#print(\"Test data: loss = %0.6f  accuracy = %0.2f%% \" % (loss_acc[0], loss_acc[1]*100))"
   ]
  },
  {
   "cell_type": "code",
   "execution_count": null,
   "metadata": {},
   "outputs": [],
   "source": []
  },
  {
   "cell_type": "code",
   "execution_count": null,
   "metadata": {},
   "outputs": [],
   "source": []
  },
  {
   "cell_type": "markdown",
   "metadata": {},
   "source": [
    "- original file $\\rightarrow$ simplified Chinese\n",
    "- Input file $\\rightarrow$ used to feed Bi-LSTM model\n",
    "- Label file $\\rightarrow$ used to test the predictions\n",
    "\n",
    "TO DO: probably need a decoder"
   ]
  },
  {
   "cell_type": "code",
   "execution_count": null,
   "metadata": {},
   "outputs": [],
   "source": []
  },
  {
   "cell_type": "code",
   "execution_count": null,
   "metadata": {},
   "outputs": [],
   "source": []
  }
 ],
 "metadata": {
  "kernelspec": {
   "display_name": "Python 3",
   "language": "python",
   "name": "python3"
  },
  "language_info": {
   "codemirror_mode": {
    "name": "ipython",
    "version": 3
   },
   "file_extension": ".py",
   "mimetype": "text/x-python",
   "name": "python",
   "nbconvert_exporter": "python",
   "pygments_lexer": "ipython3",
   "version": "3.6.4"
  }
 },
 "nbformat": 4,
 "nbformat_minor": 2
}
