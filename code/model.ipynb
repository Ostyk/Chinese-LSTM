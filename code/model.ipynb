{
 "cells": [
  {
   "cell_type": "markdown",
   "metadata": {},
   "source": [
    "# Allowed libraries\n",
    "- Tensorflow (compatible with 1.12.x)\n",
    "- Numpy\n",
    "- Sklearn\n",
    "- nltk\n",
    "- Maplotlib\n",
    "- gensim\n",
    "- All the standard libraries\n",
    " "
   ]
  },
  {
   "cell_type": "markdown",
   "metadata": {},
   "source": [
    "https://medium.com/the-artificial-impostor/nlp-four-ways-to-tokenize-chinese-documents-f349eb6ba3c3\n",
    "\n",
    "https://stanfordnlp.github.io/CoreNLP/download.html"
   ]
  },
  {
   "cell_type": "code",
   "execution_count": 53,
   "metadata": {},
   "outputs": [],
   "source": [
    "\n",
    "# from google.colab import drive\n",
    "\n",
    "# drive.mount('/content/gdrive')\n",
    "\n",
    "\n",
    "# %cd gdrive/My\\ Drive/Chinese-LSTM/code"
   ]
  },
  {
   "cell_type": "code",
   "execution_count": 55,
   "metadata": {},
   "outputs": [],
   "source": [
    "import os\n",
    "import numpy as np\n",
    "import time\n",
    "import matplotlib.pyplot as plt\n",
    "import pandas as pd\n",
    "\n",
    "from typing import Tuple, List, Dict\n",
    "import tensorflow.keras as K\n",
    "from tensorflow.keras.preprocessing.sequence import pad_sequences, TimeseriesGenerator\n",
    "from sklearn.preprocessing import OneHotEncoder\n",
    "\n",
    "plt.rcParams['text.usetex']=True\n",
    "plt.rcParams['text.latex.unicode']=True\n",
    "params = {'legend.fontsize': 'x-large',\n",
    "          'figure.figsize': (15, 5),\n",
    "         'axes.labelsize': 'x-large',\n",
    "         'axes.titlesize':'x-large',\n",
    "         'xtick.labelsize':'x-large',\n",
    "         'ytick.labelsize':'x-large'}\n",
    "plt.rcParams.update(params)\n"
   ]
  },
  {
   "cell_type": "code",
   "execution_count": null,
   "metadata": {},
   "outputs": [],
   "source": [
    "from tensorflow.random import set_random_seed\n",
    "set_random_seed(42)"
   ]
  },
  {
   "cell_type": "code",
   "execution_count": 3,
   "metadata": {},
   "outputs": [],
   "source": [
    "def ChooseDataset(set_type, subset):\n",
    "    '''returns paths to Label and Input file for a specific dataset\n",
    "    args: set_type\n",
    "    return: Label_file, Input_file\n",
    "    '''\n",
    "    datasets = {\"training\":'../icwb2-data/training',\n",
    "                \"dev\":'../icwb2-data/gold',\n",
    "                \"testing\":'../icwb2-data/testing'}\n",
    "\n",
    "    def get_file_names(path, type_='LabelFile'):\n",
    "        x = []\n",
    "        dev = True if path.split(\"/\")[-1] == 'gold' else False #checks for dev\n",
    "        for i in os.listdir(path):\n",
    "            if dev and i.split(\"_\")[1][:4]=='test': #eliminates 'training' from 'gold'\n",
    "                if os.path.splitext(i)[0].split(\"_\")[-1] == type_:\n",
    "                    x.append(os.path.join(path, i))\n",
    "            elif not dev:\n",
    "                if os.path.splitext(i)[0].split(\"_\")[-1] == type_:\n",
    "                    x.append(os.path.join(path, i))\n",
    "        return x\n",
    "\n",
    "    Label_files = get_file_names(path = datasets[set_type], type_ = 'LabelFile')\n",
    "    Input_files = get_file_names(path = datasets[set_type], type_ = 'InputFile')\n",
    "    names = ['msr','cityu','as','pku']\n",
    "    choose = lambda i: i.split(\".utf8\")[0].split('/')[-1].split(\"_\")[0]\n",
    "    e, r = False, False\n",
    "    chosen = False\n",
    "    while not chosen:\n",
    "        #x = input(\"Choose from the following: {}\".format(names))\n",
    "        x = subset\n",
    "        for i in range(len(Label_files)):\n",
    "            if choose(Input_files[i]) == x:\n",
    "                Input_file = Input_files[i]\n",
    "                e = True\n",
    "            if choose(Label_files[i]) == x:\n",
    "                Label_file = Label_files[i]\n",
    "                r = True\n",
    "            if e and r:\n",
    "                chosen = True\n",
    "\n",
    "    return Label_file, Input_file"
   ]
  },
  {
   "cell_type": "code",
   "execution_count": 4,
   "metadata": {},
   "outputs": [],
   "source": [
    "class CreateDataset(object):\n",
    "    '''makes feed files of combined unigrams and bigrams'''\n",
    "    def __init__(self, LabelFile_path, InputFile_path, PaddingSize, set_type, TrainingVocab):\n",
    "        self.Label_File = LabelFile_path\n",
    "        self.Input_File = InputFile_path\n",
    "        self.PaddingSize = PaddingSize\n",
    "        self.set_type = set_type\n",
    "        self.TrainingVocab = TrainingVocab\n",
    "    \n",
    "    def DateGen(self):\n",
    "        '''Data generator given the feature generator. Pads the feature vectors accordingly\n",
    "        returns: X_unigrams, X_bigrams, y, info (includes padding size, vocab sizes),\n",
    "        uni_word_to_idx, bi_word_to_idx\n",
    "        '''\n",
    "        \n",
    "        uni_feature_vectors, bi_feature_vectors, uni_word_to_idx, bi_word_to_idx = self.FeatureGenerator() \n",
    "        \n",
    "        labels = self.BIESToNumerical()\n",
    "        \n",
    "        padded_labels = pad_sequences(labels, truncating='pre', padding='post', maxlen = self.PaddingSize)\n",
    "        y =  K.utils.to_categorical(padded_labels, num_classes=4)\n",
    "        \n",
    "        X_unigrams = pad_sequences(uni_feature_vectors, truncating='pre',\n",
    "                                   padding='post', maxlen = self.PaddingSize)\n",
    "        X_bigrams = pad_sequences(bi_feature_vectors, truncating='pre',\n",
    "                                  padding='post', maxlen = self.PaddingSize)\n",
    "        \n",
    "        info = {\"uni_VocabSize\": len(uni_word_to_idx),\n",
    "                \"bi_VocabSize\": len(bi_word_to_idx)}\n",
    "        return X_unigrams, X_bigrams, y, info, uni_word_to_idx, bi_word_to_idx\n",
    "    \n",
    "    def BIESToNumerical(self):\n",
    "        '''Converts Label File from BIES encoding to numerical classes'''\n",
    "        BIES = {'B' : 0, 'I' : 1, 'E' : 2, 'S' : 3}\n",
    "        #numerical BIES class given to a line \n",
    "        labels = []\n",
    "        with open(self.Label_File, 'r', encoding ='utf8') as f1:\n",
    "            count = 0\n",
    "            for line in f1:\n",
    "                l = line.rstrip()\n",
    "                labels.append([BIES[i] for i in l])\n",
    "        return labels\n",
    "    \n",
    "    def FeatureGenerator(self):\n",
    "        '''Generates features based on unigrams and bigrams going line by line\n",
    "        returns: unigram_feature_vectors, bigram_feature_vectors\n",
    "        if training then returns also the word_to_idx for both unigrams and bigrams\n",
    "        '''\n",
    "        \n",
    "        uni_feature_vectors, bi_feature_vectors = [], []\n",
    "        \n",
    "        if self.set_type == 'training':\n",
    "            uni_word_to_idx, bi_word_to_idx = self.generateVocab()\n",
    "        else:\n",
    "            uni_word_to_idx, bi_word_to_idx = self.TrainingVocab\n",
    "\n",
    "        with open(self.Input_File, 'r', encoding ='utf8') as f1:\n",
    "            for line in f1:\n",
    "                line = line.rstrip()\n",
    "                \n",
    "                unigrams = self.split_into_grams(line, 'uni_grams')\n",
    "                bigrams = self.split_into_grams(line,'bi_grams')\n",
    "                \n",
    "                uni_feature_vectors.append([uni_word_to_idx.get(i, 0) for i in unigrams])\n",
    "                bi_feature_vectors.append([bi_word_to_idx.get(i, 0) for i in bigrams])\n",
    "                \n",
    "        return uni_feature_vectors, bi_feature_vectors, uni_word_to_idx, bi_word_to_idx\n",
    "    \n",
    "    def generateVocab(self):\n",
    "        '''\n",
    "        Generates vocabulary based on file\n",
    "        args: Inputfile, returns: word_to_index for unigrams and bigrams seperetly \n",
    "        '''\n",
    "        with open(self.Input_File, 'r', encoding ='utf8') as f1:\n",
    "            lines = f1.readlines()\n",
    "            raw = ' '.join(' '.join(lines).split()) #one long string\n",
    "        #creating unigrams and bigrams\n",
    "        unigrams, bigrams = self.split_into_grams(raw, 'uni_grams'), self.split_into_grams(raw, 'bi_grams')\n",
    "        del raw #erase from memory\n",
    "        #geting seperate vocavularies\n",
    "        unigrams_vocab, bigrams_vocab = set(unigrams), set(bigrams) \n",
    "\n",
    "        #initializing sepeate dictionaries\n",
    "        uni_word_to_idx, bi_word_to_idx = dict(), dict()\n",
    "        #Handling OOV\n",
    "        uni_word_to_idx[\"<UNK>\"], bi_word_to_idx[\"<UNK>\"] = 0, 0\n",
    "        #creating the rest of the word to index dict\n",
    "        uni_word_to_idx.update({value:key+1 for key,value in enumerate(unigrams_vocab)})\n",
    "        bi_word_to_idx.update({value:key+1 for key,value in enumerate(bigrams_vocab)})\n",
    "\n",
    "        return uni_word_to_idx, bi_word_to_idx\n",
    "        \n",
    "    \n",
    "    @staticmethod\n",
    "    def split_into_grams(sentence: str, type_ = 'uni_grams') -> List[str]:\n",
    "        \"\"\"\n",
    "        :param sentence Sentence as str\n",
    "        :type_: uni_grams or _bigrams\n",
    "        :return bigrams List of unigrams or bigrams\n",
    "        \"\"\"\n",
    "        n = 1 if type_ == 'uni_grams' else 2\n",
    "        grams = []\n",
    "        for i in range(len(sentence)-1):\n",
    "            gram = sentence[i:i+n]\n",
    "            grams.append(gram)\n",
    "        return grams\n",
    "\n",
    "    "
   ]
  },
  {
   "cell_type": "code",
   "execution_count": 5,
   "metadata": {},
   "outputs": [],
   "source": [
    "def data_feed(subset='pku',padding=50):\n",
    "    '''function that creates a dataset -- training, dev, and test\n",
    "    args: subset: any subset, padding: padding size\n",
    "    returns: (X_train, y_train), (X_dev, y_dev), (X_test, y_test), info_dev\n",
    "    '''\n",
    "    \n",
    "    type_ = \"training\"\n",
    "    print(\"*****{}*****\".format(type_))\n",
    "    Label_file, Input_file = ChooseDataset(type_, subset)\n",
    "    A = CreateDataset(Label_file, Input_file, padding, type_, None)\n",
    "    X_train_uni, X_train_bi, y_train, info_train, uni_word_to_idx, bi_word_to_idx = A.DateGen()\n",
    "    print(\"X uni-bi shape: {}{}\\ny shape: {}\".format(X_train_uni.shape, X_train_bi.shape, y_train.shape))\n",
    "    print(info_train)\n",
    "    \n",
    "    type_ = 'dev'\n",
    "    Label_file, Input_file = ChooseDataset(type_, subset)\n",
    "    print(Label_file, Input_file)\n",
    "    A = CreateDataset(Label_file, Input_file, padding, type_, [uni_word_to_idx, bi_word_to_idx])\n",
    "    X_dev_uni, X_dev_bi, y_dev, info_dev, _, _ = A.DateGen()\n",
    "    print(\"*****{}*****\".format(type_))\n",
    "    print(\"X uni-bi shape: {}{}\\ny shape: {}\".format(X_dev_uni.shape, X_dev_bi.shape, y_train.shape))\n",
    "    print(info_dev)\n",
    "    \n",
    "    type_ = 'testing'\n",
    "    Label_file, Input_file = ChooseDataset(type_, subset)\n",
    "    A = CreateDataset(Label_file, Input_file, padding, type_, [uni_word_to_idx, bi_word_to_idx])\n",
    "    X_test_uni, X_test_bi, y_test, info_test, _, _ = A.DateGen()\n",
    "    print(\"*****{}*****\".format(type_))\n",
    "    print(\"X uni-bi shape: {}{}\\ny shape: {}\".format(X_test_uni.shape, X_test_bi.shape, y_train.shape))\n",
    "    print(info_test)\n",
    "    \n",
    "    return {\"train\": {\"X\": [X_train_uni, X_train_bi],\n",
    "                      \"y\": y_train}, \n",
    "           \"dev\": {\"X\": [X_dev_uni, X_dev_bi],\n",
    "                   \"y\": y_dev},\n",
    "           \"test\": {\"X\": [X_test_uni, X_test_bi],\n",
    "                    \"y\": y_test},\n",
    "           \"info\": info_train}\n",
    "\n"
   ]
  },
  {
   "cell_type": "code",
   "execution_count": 6,
   "metadata": {},
   "outputs": [
    {
     "name": "stdout",
     "output_type": "stream",
     "text": [
      "*****training*****\n",
      "X uni-bi shape: (19056, 10)(19056, 10)\n",
      "y shape: (19056, 10, 4)\n",
      "{'uni_VocabSize': 4692, 'bi_VocabSize': 279845}\n",
      "../icwb2-data/gold/pku_test_gold_simplified_LabelFile.utf8 ../icwb2-data/gold/pku_test_gold_simplified_InputFile.utf8\n",
      "*****dev*****\n",
      "X uni-bi shape: (1945, 10)(1945, 10)\n",
      "y shape: (19056, 10, 4)\n",
      "{'uni_VocabSize': 4692, 'bi_VocabSize': 279845}\n",
      "*****testing*****\n",
      "X uni-bi shape: (1945, 10)(1945, 10)\n",
      "y shape: (19056, 10, 4)\n",
      "{'uni_VocabSize': 4692, 'bi_VocabSize': 279845}\n"
     ]
    }
   ],
   "source": [
    "SUBSET = 'pku'\n",
    "PADDING_SIZE = 10\n",
    "data = data_feed(SUBSET, PADDING_SIZE)"
   ]
  },
  {
   "cell_type": "markdown",
   "metadata": {},
   "source": [
    "# model"
   ]
  },
  {
   "cell_type": "code",
   "execution_count": 7,
   "metadata": {},
   "outputs": [],
   "source": [
    "VOCAB_SIZE = {\"unigrams\": data['info']['uni_VocabSize'],\n",
    "              \"bigrams\": data['info']['bi_VocabSize']}\n",
    "EMBEDDING_SIZE = 32\n",
    "HIDDEN_SIZE = 256\n",
    "batch_size = 128\n",
    "epochs = 5"
   ]
  },
  {
   "cell_type": "code",
   "execution_count": 8,
   "metadata": {},
   "outputs": [],
   "source": [
    "K.backend.clear_session()"
   ]
  },
  {
   "cell_type": "code",
   "execution_count": 9,
   "metadata": {},
   "outputs": [
    {
     "name": "stdout",
     "output_type": "stream",
     "text": [
      "Creating KERAS model\n",
      "WARNING:tensorflow:From /Library/Frameworks/Python.framework/Versions/3.6/lib/python3.6/site-packages/tensorflow/python/ops/resource_variable_ops.py:435: colocate_with (from tensorflow.python.framework.ops) is deprecated and will be removed in a future version.\n",
      "Instructions for updating:\n",
      "Colocations handled automatically by placer.\n",
      "WARNING:tensorflow:From /Library/Frameworks/Python.framework/Versions/3.6/lib/python3.6/site-packages/tensorflow/python/keras/backend.py:4010: calling dropout (from tensorflow.python.ops.nn_ops) with keep_prob is deprecated and will be removed in a future version.\n",
      "Instructions for updating:\n",
      "Please use `rate` instead of `keep_prob`. Rate should be set to `rate = 1 - keep_prob`.\n",
      "__________________________________________________________________________________________________\n",
      "Layer (type)                    Output Shape         Param #     Connected to                     \n",
      "==================================================================================================\n",
      "unigrams (InputLayer)           (None, 10)           0                                            \n",
      "__________________________________________________________________________________________________\n",
      "bigrams (InputLayer)            (None, 10)           0                                            \n",
      "__________________________________________________________________________________________________\n",
      "embedding_unigrams (Embedding)  (None, 10, 32)       150144      unigrams[0][0]                   \n",
      "__________________________________________________________________________________________________\n",
      "embedding_bigrams (Embedding)   (None, 10, 32)       8955040     bigrams[0][0]                    \n",
      "__________________________________________________________________________________________________\n",
      "concatenated (Concatenate)      (None, 10, 64)       0           embedding_unigrams[0][0]         \n",
      "                                                                 embedding_bigrams[0][0]          \n",
      "__________________________________________________________________________________________________\n",
      "Bi-directional_LSTM (Bidirectio (None, 10, 512)      657408      concatenated[0][0]               \n",
      "__________________________________________________________________________________________________\n",
      "time_distributed (TimeDistribut (None, 10, 4)        2052        Bi-directional_LSTM[0][0]        \n",
      "==================================================================================================\n",
      "Total params: 9,764,644\n",
      "Trainable params: 9,764,644\n",
      "Non-trainable params: 0\n",
      "__________________________________________________________________________________________________\n"
     ]
    }
   ],
   "source": [
    "model_name = time.strftime('%Y-%m-%d_%H:%M:%S_%z')\n",
    "def create_keras_model(vocab_size, embedding_size, hidden_size, PADDING_SIZE):\n",
    "    print(\"Creating KERAS model\")\n",
    "    \n",
    "    unigrams = K.layers.Input(shape=(PADDING_SIZE,),name = 'unigrams')\n",
    "    embedding_unigrams = K.layers.Embedding(vocab_size[\"unigrams\"], embedding_size,\n",
    "                                            mask_zero=True, name = 'embedding_unigrams')(unigrams)\n",
    "    \n",
    "    bigrams = K.layers.Input(shape=(PADDING_SIZE,),name = 'bigrams')\n",
    "    embedding_bigrams = K.layers.Embedding(vocab_size[\"bigrams\"], embedding_size,\n",
    "                                           mask_zero=True, name = 'embedding_bigrams')(bigrams)\n",
    "\n",
    "    merged_vector = K.layers.concatenate([embedding_unigrams, embedding_bigrams], axis=-1, name = 'concatenated')\n",
    "    \n",
    "    #two different emnedding layers\n",
    "    BI_LSTM = (K.layers.Bidirectional(\n",
    "               K.layers.LSTM(hidden_size, dropout=0.2, recurrent_dropout=0.,\n",
    "                             return_sequences=True),name = 'Bi-directional_LSTM'))(merged_vector)\n",
    "    \n",
    "    predictions = K.layers.TimeDistributed(K.layers.Dense(4, activation='softmax'))(BI_LSTM)\n",
    "    \n",
    "    model = K.models.Model(inputs=[unigrams, bigrams], outputs=predictions)\n",
    "    \n",
    "    model.compile(loss='categorical_crossentropy', optimizer='adam', metrics=['acc'])\n",
    "\n",
    "    return model\n",
    "\n",
    "model = create_keras_model(VOCAB_SIZE, EMBEDDING_SIZE, HIDDEN_SIZE, PADDING_SIZE)\n",
    "# Let's print a summary of the model\n",
    "model.summary()"
   ]
  },
  {
   "cell_type": "code",
   "execution_count": 10,
   "metadata": {},
   "outputs": [
    {
     "name": "stdout",
     "output_type": "stream",
     "text": [
      "\n",
      "Starting training...\n"
     ]
    }
   ],
   "source": [
    "if not os.path.exists('../resources/report_images'):\n",
    "    os.mkdir('../resources/report_images')\n",
    "\n",
    "cbk = K.callbacks.TensorBoard('../resources/logging/keras_model_'+model_name)\n",
    "print(\"\\nStarting training...\")\n",
    "K.utils.plot_model(model, to_file='../resources/report_images/model.png')"
   ]
  },
  {
   "cell_type": "code",
   "execution_count": 11,
   "metadata": {},
   "outputs": [],
   "source": [
    "early_stopping = K.callbacks.EarlyStopping(monitor='val_loss',\n",
    "                              min_delta=0,\n",
    "                              patience=2,\n",
    "                              verbose=0, mode='auto')\n",
    "csv_logger = K.callbacks.CSVLogger('../resources/logging/keras_model_'+model_name+'.log')"
   ]
  },
  {
   "cell_type": "code",
   "execution_count": 12,
   "metadata": {},
   "outputs": [
    {
     "name": "stdout",
     "output_type": "stream",
     "text": [
      "Train on 19056 samples, validate on 1945 samples\n",
      "WARNING:tensorflow:From /Library/Frameworks/Python.framework/Versions/3.6/lib/python3.6/site-packages/tensorflow/python/ops/math_ops.py:3066: to_int32 (from tensorflow.python.ops.math_ops) is deprecated and will be removed in a future version.\n",
      "Instructions for updating:\n",
      "Use tf.cast instead.\n",
      "Epoch 1/5\n",
      "19056/19056 [==============================] - 45s 2ms/sample - loss: 1.0437 - acc: 0.5702 - val_loss: 0.9914 - val_acc: 0.5725\n",
      "Epoch 2/5\n",
      "19056/19056 [==============================] - 42s 2ms/sample - loss: 0.8468 - acc: 0.6279 - val_loss: 0.9295 - val_acc: 0.5931\n",
      "Epoch 3/5\n",
      "19056/19056 [==============================] - 43s 2ms/sample - loss: 0.6111 - acc: 0.7526 - val_loss: 0.9494 - val_acc: 0.6181\n",
      "Epoch 4/5\n",
      "19056/19056 [==============================] - 42s 2ms/sample - loss: 0.3906 - acc: 0.8547 - val_loss: 1.1024 - val_acc: 0.6229\n",
      "Training complete.\n",
      "\n"
     ]
    }
   ],
   "source": [
    "\n",
    "model.fit(data[\"train\"][\"X\"], data[\"train\"][\"y\"],\n",
    "          epochs=epochs, batch_size=batch_size, shuffle=True,\n",
    "          validation_data=(data[\"dev\"][\"X\"], data[\"dev\"][\"y\"]),\n",
    "          callbacks=[cbk, csv_logger, early_stopping]) \n",
    "\n",
    "print(\"Training complete.\\n\")\n",
    "\n"
   ]
  },
  {
   "cell_type": "code",
   "execution_count": 13,
   "metadata": {},
   "outputs": [],
   "source": [
    "if not os.path.exists('../resources/models'):\n",
    "    os.mkdir('../resources/models')\n",
    "rel_path = '../resources/models'\n",
    "weights = os.path.join(rel_path,'model_weights_'+model_name+'.h5')\n",
    "model_name_save = os.path.join(rel_path,'model_'+model_name+'.h5')\n",
    "model.save_weights(weights) #saving weights for further analysis\n",
    "model.save(model_name_save)"
   ]
  },
  {
   "cell_type": "code",
   "execution_count": 14,
   "metadata": {},
   "outputs": [
    {
     "name": "stdout",
     "output_type": "stream",
     "text": [
      "\n",
      "Evaluating test...\n",
      "Test data: loss = 7.112935  accuracy = 4.03% \n"
     ]
    }
   ],
   "source": [
    "print(\"\\nEvaluating test...\")\n",
    "loss_acc = model.evaluate(data[\"test\"][\"X\"], data[\"test\"][\"y\"], verbose=3)\n",
    "print(\"Test data: loss = %0.6f  accuracy = %0.2f%% \" % (loss_acc[0], loss_acc[1]*100))"
   ]
  },
  {
   "cell_type": "code",
   "execution_count": 15,
   "metadata": {
    "scrolled": true
   },
   "outputs": [],
   "source": [
    "#!tensorboard --logdir logging"
   ]
  },
  {
   "cell_type": "code",
   "execution_count": 56,
   "metadata": {},
   "outputs": [
    {
     "name": "stderr",
     "output_type": "stream",
     "text": [
      "/Library/Frameworks/Python.framework/Versions/3.6/lib/python3.6/site-packages/matplotlib/figure.py:459: UserWarning: matplotlib is currently using a non-GUI backend, so cannot show the figure\n",
      "  \"matplotlib is currently using a non-GUI backend, \"\n"
     ]
    },
    {
     "data": {
      "image/png": "[encoded data removed]",
      "text/plain": [
       "<Figure size 720x504 with 2 Axes>"
      ]
     },
     "metadata": {},
     "output_type": "display_data"
    }
   ],
   "source": [
    "def plot_training(model_name, save = False, PADDING_SIZE = None, epochs = None, subset = None, size = 30):\n",
    "    if not model_name:\n",
    "        selected = False\n",
    "        while not selected:\n",
    "            c=0\n",
    "            for ind, i in enumerate(os.listdir(\"../resources/logging\")):\n",
    "                print(\"{}:\\t{}\".format(ind, i))\n",
    "            x = int(input(\"Please select one of the above with a numer: \"))\n",
    "            model_name = os.listdir(\"../resources/logging\")[x]\n",
    "            if model_name.endswith(\".log\"):\n",
    "                selected = True\n",
    "            else: \n",
    "                print(\"please select a correct log file to load\")\n",
    "        history = pd.read_csv('../resources/logging/'+model_name)\n",
    "        PADDING_SIZE, epochs, subset = 'Unknown', history.shape[0], 'Unknown'\n",
    "    else:\n",
    "        history = pd.read_csv('../resources/logging/keras_model_'+model_name+'.log')\n",
    "    \n",
    "    fig, axs = plt.subplots(nrows=2, ncols=1, sharex=True, figsize=(10,7))\n",
    "    # summarize history for accuracy\n",
    "    axs[0].plot(history['acc'])\n",
    "    axs[0].plot(history['val_acc'])\n",
    "    #axs[0].title('model accuracy')\n",
    "    axs[0].set_ylabel('accuracy',size = size)\n",
    "    #axs[0].set_xlabel('epoch')\n",
    "    axs[0].set_xticks((list(range(0,epochs))))\n",
    "    axs[0].legend(['train', 'dev'], loc='lower right')\n",
    "    axs[0].grid(alpha=0.7)\n",
    "\n",
    "    axs[0].set_title(\"Padding size = {}, epochs = {}, subset = {}\".format(PADDING_SIZE, epochs, subset), size = size)\n",
    "    \n",
    "    axs[0].tick_params(axis='x', labelsize=int(size/1.5))\n",
    "    axs[1].tick_params(axis='x', labelsize=int(size/1.5))\n",
    "    axs[0].tick_params(axis='y', labelsize=int(size/1.5))\n",
    "    axs[1].tick_params(axis='y', labelsize=int(size/1.5))\n",
    "    \n",
    "    # summarize history for loss\n",
    "    axs[1].plot(history['loss'])\n",
    "    axs[1].plot(history['val_loss'])\n",
    "    axs[1].set_ylabel('loss', size = size)\n",
    "    axs[1].set_xlabel('epoch', size = size)\n",
    "    axs[1].set_xticks((list(range(0,epochs-1))))\n",
    "    axs[1].legend(['train', 'dev'], loc='lower right')\n",
    "    axs[1].grid(alpha=0.7)\n",
    "    fig.show()\n",
    "    fig.tight_layout()\n",
    "    fig.subplots_adjust(wspace=1, hspace=0.1)\n",
    "    if save:\n",
    "        fig.savefig(\"../resources/report_images/\"+model_name+\"training_plot.png\")\n",
    "plot_training(model_name, True, PADDING_SIZE, epochs, SUBSET, size = 20)"
   ]
  },
  {
   "cell_type": "code",
   "execution_count": null,
   "metadata": {},
   "outputs": [],
   "source": []
  }
 ],
 "metadata": {
  "kernelspec": {
   "display_name": "Python 3",
   "language": "python",
   "name": "python3"
  },
  "language_info": {
   "codemirror_mode": {
    "name": "ipython",
    "version": 3
   },
   "file_extension": ".py",
   "mimetype": "text/x-python",
   "name": "python",
   "nbconvert_exporter": "python",
   "pygments_lexer": "ipython3",
   "version": "3.6.4"
  }
 },
 "nbformat": 4,
 "nbformat_minor": 2
}
