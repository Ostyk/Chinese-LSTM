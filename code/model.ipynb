{
 "cells": [
  {
   "cell_type": "code",
   "execution_count": null,
   "metadata": {
    "colab": {
     "base_uri": "https://localhost:8080/",
     "height": 139
    },
    "colab_type": "code",
    "id": "DnUZC8HEe44n",
    "outputId": "811cce69-d51b-4a40-c4ce-9709e6a4bb45"
   },
   "outputs": [],
   "source": [
    "# from google.colab import drive\n",
    "\n",
    "# drive.mount('/content/gdrive')\n",
    "\n",
    "\n",
    "# %cd gdrive/My\\ Drive/Chinese-LSTM/code"
   ]
  },
  {
   "cell_type": "code",
   "execution_count": 20,
   "metadata": {
    "colab": {},
    "colab_type": "code",
    "id": "GDo2EMlfe44r"
   },
   "outputs": [],
   "source": [
    "import os\n",
    "import numpy as np\n",
    "import time\n",
    "import matplotlib.pyplot as plt\n",
    "import pandas as pd\n",
    "import json\n",
    "\n",
    "from typing import Tuple, List, Dict\n",
    "import tensorflow.keras as K\n",
    "from tensorflow.keras.preprocessing.sequence import pad_sequences, TimeseriesGenerator\n",
    "from sklearn.preprocessing import OneHotEncoder\n"
   ]
  },
  {
   "cell_type": "code",
   "execution_count": 21,
   "metadata": {
    "colab": {},
    "colab_type": "code",
    "id": "Fsi63YibvWUV"
   },
   "outputs": [],
   "source": [
    "from tensorflow.random import set_random_seed\n",
    "set_random_seed(42)"
   ]
  },
  {
   "cell_type": "code",
   "execution_count": 22,
   "metadata": {
    "colab": {},
    "colab_type": "code",
    "id": "mZEfo_33e44v"
   },
   "outputs": [],
   "source": [
    "def ChooseDataset(set_type, subset):\n",
    "    '''returns paths to Label and Input file for a specific dataset\n",
    "    args: set_type - List, if len(List) > 1 then it creates a new file based on a concatenation of the given files\n",
    "    return: Label_file, Input_file\n",
    "    '''\n",
    "    datasets = {\"training\":'../icwb2-data/training',\n",
    "                \"dev\":'../icwb2-data/gold',\n",
    "                \"testing\":'../icwb2-data/testing'}\n",
    "\n",
    "    def get_file_names(path, type_='LabelFile'):\n",
    "        x = []\n",
    "        dev = True if path.split(\"/\")[-1] == 'gold' else False #checks for dev\n",
    "        for i in os.listdir(path):\n",
    "            if dev and i.split(\"_\")[1][:4]=='test': #eliminates 'training' from 'gold'\n",
    "                if os.path.splitext(i)[0].split(\"_\")[-1] == type_:\n",
    "                    x.append(os.path.join(path, i))\n",
    "            elif not dev:\n",
    "                if os.path.splitext(i)[0].split(\"_\")[-1] == type_:\n",
    "                    x.append(os.path.join(path, i))\n",
    "        return x\n",
    "    \n",
    "    def concat_subsets(filenames, subset, f_type):\n",
    "        current = os.path.join(*filenames[0].split('/')[:-1], '_'.join(subset) + f_type + '.utf8')\n",
    "        if os.path.isfile(current):\n",
    "            print(\"loading file\")\n",
    "            return current\n",
    "        else:\n",
    "            print(\"creating file\")\n",
    "            with open(current, 'w') as outfile:\n",
    "                for fname in filenames:\n",
    "                    with open(fname) as infile:\n",
    "                        for line in infile:\n",
    "                            outfile.write(line)\n",
    "            return current\n",
    "\n",
    "    Label_files = sorted(get_file_names(path = datasets[set_type], type_ = 'LabelFile'))\n",
    "    Input_files = sorted(get_file_names(path = datasets[set_type], type_ = 'InputFile'))\n",
    "    names = ['msr','cityu','as','pku']\n",
    "    choose = lambda i: i.split(\".utf8\")[0].split('/')[-1].split(\"_\")[0]\n",
    "    \n",
    "    Label_files = [i for i in Label_files if choose(i) in subset]\n",
    "    Input_files = [i for i in Input_files if choose(i) in subset]\n",
    "    #if more than one subset is chosen we create another file\n",
    "    if len(Label_files) > 1:\n",
    "        Label_file = concat_subsets(Label_files, subset, f_type = 'LabelFile')\n",
    "        Input_file = concat_subsets(Input_files, subset, f_type = 'InputFile')\n",
    "    else:\n",
    "        Label_file, Input_file = Label_files[0], Input_files[0]\n",
    "        \n",
    "    return Label_file, Input_file"
   ]
  },
  {
   "cell_type": "code",
   "execution_count": 23,
   "metadata": {
    "colab": {},
    "colab_type": "code",
    "id": "o1SVo77ce44y"
   },
   "outputs": [],
   "source": [
    "class CreateDataset(object):\n",
    "    '''makes feed files of combined unigrams and bigrams'''\n",
    "    def __init__(self, LabelFile_path, InputFile_path, PaddingSize, set_type, TrainingVocab):\n",
    "        self.Label_File = LabelFile_path\n",
    "        self.Input_File = InputFile_path\n",
    "        self.PaddingSize = PaddingSize\n",
    "        self.set_type = set_type\n",
    "        self.TrainingVocab = TrainingVocab\n",
    "    \n",
    "    def DateGen(self):\n",
    "        '''Data generator given the feature generator. Pads the feature vectors accordingly\n",
    "        returns: X_unigrams, X_bigrams, y, info (includes padding size, vocab sizes),\n",
    "        uni_word_to_idx, bi_word_to_idx\n",
    "        '''\n",
    "        \n",
    "        uni_feature_vectors, bi_feature_vectors, uni_word_to_idx, bi_word_to_idx = self.FeatureGenerator() \n",
    "        \n",
    "        labels = self.BIESToNumerical()\n",
    "        \n",
    "        padded_labels = pad_sequences(labels, truncating='pre', padding='post', maxlen = self.PaddingSize)\n",
    "        y =  K.utils.to_categorical(padded_labels, num_classes=4)\n",
    "        \n",
    "        X_unigrams = pad_sequences(uni_feature_vectors, truncating='pre',\n",
    "                                   padding='post', maxlen = self.PaddingSize)\n",
    "        X_bigrams = pad_sequences(bi_feature_vectors, truncating='pre',\n",
    "                                  padding='post', maxlen = self.PaddingSize)\n",
    "        \n",
    "        info = {\"uni_VocabSize\": len(uni_word_to_idx)+1,\n",
    "                \"bi_VocabSize\": len(bi_word_to_idx)+1}\n",
    "        return X_unigrams, X_bigrams, y, info, uni_word_to_idx, bi_word_to_idx\n",
    "    \n",
    "    def BIESToNumerical(self):\n",
    "        '''Converts Label File from BIES encoding to numerical classes'''\n",
    "        BIES = {'B' : 0, 'I' : 1, 'E' : 2, 'S' : 3}\n",
    "        #numerical BIES class given to a line \n",
    "        labels = []\n",
    "        with open(self.Label_File, 'r', encoding ='utf8') as f1:\n",
    "            count = 0\n",
    "            for line in f1:\n",
    "                l = line.rstrip()\n",
    "                labels.append([BIES[i] for i in l])\n",
    "        return labels\n",
    "    \n",
    "    def FeatureGenerator(self):\n",
    "        '''Generates features based on unigrams and bigrams going line by line\n",
    "        returns: unigram_feature_vectors, bigram_feature_vectors\n",
    "        if training then returns also the word_to_idx for both unigrams and bigrams\n",
    "        '''\n",
    "        \n",
    "        uni_feature_vectors, bi_feature_vectors = [], []\n",
    "        \n",
    "        if self.set_type == 'training':\n",
    "            uni_word_to_idx, bi_word_to_idx = self.generateVocab()\n",
    "        else:\n",
    "            uni_word_to_idx, bi_word_to_idx = self.TrainingVocab\n",
    "\n",
    "        with open(self.Input_File, 'r', encoding ='utf8') as f1:\n",
    "            for line in f1:\n",
    "                line = line.rstrip()\n",
    "                \n",
    "                unigrams = self.split_into_grams(line, 'uni_grams')\n",
    "                bigrams = self.split_into_grams(line,'bi_grams')\n",
    "                \n",
    "                uni_feature_vectors.append([uni_word_to_idx.get(i, 1) for i in unigrams])\n",
    "                bi_feature_vectors.append([bi_word_to_idx.get(i, 1) for i in bigrams])\n",
    "                \n",
    "        return uni_feature_vectors, bi_feature_vectors, uni_word_to_idx, bi_word_to_idx\n",
    "    \n",
    "    def generateVocab(self):\n",
    "        '''\n",
    "        Generates vocabulary based on file\n",
    "        args: Inputfile, returns: word_to_index for unigrams and bigrams seperetly \n",
    "        '''\n",
    "        with open(self.Input_File, 'r', encoding ='utf8') as f1:\n",
    "            lines = f1.readlines()\n",
    "            raw = ' '.join(' '.join(lines).split()) #one long string\n",
    "        #creating unigrams and bigrams\n",
    "        unigrams, bigrams = self.split_into_grams(raw, 'uni_grams'), self.split_into_grams(raw, 'bi_grams')\n",
    "        del raw #erase from memory\n",
    "        #geting seperate vocavularies\n",
    "        unigrams_vocab, bigrams_vocab = set(unigrams), set(bigrams) \n",
    "        #initializing sepeate dictionaries\n",
    "        uni_word_to_idx, bi_word_to_idx = dict(), dict()\n",
    "        #Handling OOV\n",
    "        uni_word_to_idx[\"<UNK>\"], bi_word_to_idx[\"<UNK>\"] = 1, 1\n",
    "        #creating the rest of the word to index dict\n",
    "        uni_word_to_idx.update({value:key for key,value in enumerate(unigrams_vocab, start = 2)})\n",
    "        bi_word_to_idx.update({value:key for key,value in enumerate(bigrams_vocab, start = 2)})\n",
    "\n",
    "        return uni_word_to_idx, bi_word_to_idx\n",
    "        \n",
    "    \n",
    "    @staticmethod\n",
    "    def split_into_grams(sentence: str, type_ = 'uni_grams') -> List[str]:\n",
    "        \"\"\"\n",
    "        :param sentence Sentence as str\n",
    "        :type_: uni_grams or _bigrams\n",
    "        :return bigrams List of unigrams or bigrams\n",
    "        \"\"\"\n",
    "        n = 1 if type_ == 'uni_grams' else 2\n",
    "        grams = []\n",
    "        for i in range(len(sentence)-1):\n",
    "            gram = sentence[i:i+n]\n",
    "            grams.append(gram)\n",
    "        return grams\n",
    "\n",
    "    "
   ]
  },
  {
   "cell_type": "code",
   "execution_count": 24,
   "metadata": {
    "colab": {},
    "colab_type": "code",
    "id": "7RmOTGJVe440"
   },
   "outputs": [],
   "source": [
    "def data_feed(subset='pku',padding=50):\n",
    "    '''function that creates a dataset -- training, dev, and test\n",
    "    args: subset: any subset, padding: padding size\n",
    "    returns: (X_train, y_train), (X_dev, y_dev), (X_test, y_test), info_dev\n",
    "    '''\n",
    "    return_dict = dict()\n",
    "    \n",
    "    type_ = \"training\"\n",
    "    print(\"*****{}*****\".format(type_))\n",
    "    Label_file, Input_file = ChooseDataset(type_, subset)\n",
    "    A = CreateDataset(Label_file, Input_file, padding, type_, None)\n",
    "    X_train_uni, X_train_bi, y_train, info_train, uni_word_to_idx, bi_word_to_idx = A.DateGen()\n",
    "    return_dict.update({\"train\": {\"X\": [X_train_uni, X_train_bi],\n",
    "                                 \"y\": y_train,\n",
    "                                 \"info\": info_train}})\n",
    "    print(\"X uni-bi shape: {}{}\\ny shape: {}\".format(X_train_uni.shape, X_train_bi.shape, y_train.shape))\n",
    "    \n",
    "    type_ = 'dev'\n",
    "    Label_file, Input_file = ChooseDataset(type_, subset)\n",
    "    A = CreateDataset(Label_file, Input_file, padding, type_, [uni_word_to_idx, bi_word_to_idx])\n",
    "    X_dev_uni, X_dev_bi, y_dev, info_dev, _, _ = A.DateGen()\n",
    "    return_dict.update({\"dev\": {\"X\": [X_dev_uni, X_dev_bi],\n",
    "                               \"y\": y_dev}})\n",
    "    print(\"*****{}*****\".format(type_))\n",
    "    print(\"X uni-bi shape: {}{}\\ny shape: {}\".format(X_dev_uni.shape, X_dev_bi.shape, y_dev.shape))\n",
    "    \n",
    "    return return_dict, uni_word_to_idx, bi_word_to_idx"
   ]
  },
  {
   "cell_type": "code",
   "execution_count": 25,
   "metadata": {
    "colab": {
     "base_uri": "https://localhost:8080/",
     "height": 187
    },
    "colab_type": "code",
    "id": "F2BKpKG0e442",
    "outputId": "11f1bc27-501e-4d11-fcce-0f9ab99f60ea"
   },
   "outputs": [
    {
     "name": "stdout",
     "output_type": "stream",
     "text": [
      "*****training*****\n",
      "X uni-bi shape: (19056, 30)(19056, 30)\n",
      "y shape: (19056, 30, 4)\n",
      "*****dev*****\n",
      "X uni-bi shape: (1945, 30)(1945, 30)\n",
      "y shape: (1945, 30, 4)\n"
     ]
    }
   ],
   "source": [
    "SUBSET = ['pku']\n",
    "PADDING_SIZE = 30\n",
    "data, uni_word_to_idx, bi_word_to_idx = data_feed(SUBSET, PADDING_SIZE)\n",
    "\n",
    "# saving critical info to be later used when used on test sets\n",
    "predict_dict = dict()\n",
    "predict_dict.update({\"PADDING_SIZE\": PADDING_SIZE})\n",
    "predict_dict.update({\"UNIGRAM_DICT\": uni_word_to_idx})\n",
    "predict_dict.update({\"BIGRAM_DICT\": bi_word_to_idx})\n",
    "with open(\"../resources/\"+ '_'.join(SUBSET) + \"_\" + str(PADDING_SIZE) + '.json', 'w') as f:\n",
    "    json.dump(predict_dict, f)"
   ]
  },
  {
   "cell_type": "markdown",
   "metadata": {
    "colab_type": "text",
    "id": "i7jDoZtPe447"
   },
   "source": [
    "# model"
   ]
  },
  {
   "cell_type": "code",
   "execution_count": 26,
   "metadata": {
    "colab": {},
    "colab_type": "code",
    "id": "wwiYx9rxe448"
   },
   "outputs": [],
   "source": [
    "VOCAB_SIZE = {\"unigrams\": data['train']['info']['uni_VocabSize'],\n",
    "              \"bigrams\": data['train']['info']['bi_VocabSize']}\n",
    "EMBEDDING_SIZE = {\"unigrams\": 32,\n",
    "                  \"bigrams\": 16}\n",
    "HIDDEN_SIZE = 256\n",
    "batch_size = 128\n",
    "epochs = 20\n",
    "LEARNING_RATE = 0.0015\n",
    "INPUT_DROPOUT = 0.2\n",
    "LSTM_DROPOUT = 0.45\n",
    "RECURRENT_DROPOUT = 0.35\n",
    "\n",
    "#input dropout/ lstm dropout/recurrent dropout/ learning rate\n",
    "#0.35/0.3/0.25/0.0003 128 batch"
   ]
  },
  {
   "cell_type": "code",
   "execution_count": 27,
   "metadata": {
    "colab": {},
    "colab_type": "code",
    "id": "qAL0xLWre45A"
   },
   "outputs": [],
   "source": [
    "K.backend.clear_session()"
   ]
  },
  {
   "cell_type": "code",
   "execution_count": 28,
   "metadata": {
    "colab": {
     "base_uri": "https://localhost:8080/",
     "height": 530
    },
    "colab_type": "code",
    "id": "VPMwCo_qe45D",
    "outputId": "d5f179c3-d7ff-4866-f915-3009ae657d9f"
   },
   "outputs": [
    {
     "name": "stdout",
     "output_type": "stream",
     "text": [
      "Creating KERAS model\n",
      "__________________________________________________________________________________________________\n",
      "Layer (type)                    Output Shape         Param #     Connected to                     \n",
      "==================================================================================================\n",
      "input_1 (InputLayer)            (None, None)         0                                            \n",
      "__________________________________________________________________________________________________\n",
      "input_2 (InputLayer)            (None, None)         0                                            \n",
      "__________________________________________________________________________________________________\n",
      "embedding_unigrams (Embedding)  (None, None, 32)     150176      input_1[0][0]                    \n",
      "__________________________________________________________________________________________________\n",
      "embedding_bigrams (Embedding)   (None, None, 16)     4477536     input_2[0][0]                    \n",
      "__________________________________________________________________________________________________\n",
      "concatenated (Concatenate)      (None, None, 48)     0           embedding_unigrams[0][0]         \n",
      "                                                                 embedding_bigrams[0][0]          \n",
      "__________________________________________________________________________________________________\n",
      "Bi-directional_LSTM (Bidirectio (None, None, 512)    624640      concatenated[0][0]               \n",
      "__________________________________________________________________________________________________\n",
      "time_distributed (TimeDistribut (None, None, 4)      2052        Bi-directional_LSTM[0][0]        \n",
      "==================================================================================================\n",
      "Total params: 5,254,404\n",
      "Trainable params: 5,254,404\n",
      "Non-trainable params: 0\n",
      "__________________________________________________________________________________________________\n"
     ]
    }
   ],
   "source": [
    "model_name = time.strftime('%Y-%m-%d_%H:%M:%S_%z')\n",
    "def Model_A(vocab_size, embedding_size, hidden_size, PADDING_SIZE, LEARNING_RATE, INPUT_DROPOUT, LSTM_DROPOUT, RECURRENT_DROPOUT):\n",
    "    print(\"Creating KERAS model\")\n",
    "    \n",
    "    unigrams = K.layers.Input(shape=(None,))\n",
    "    embedding_unigrams = K.layers.Embedding(vocab_size[\"unigrams\"],\n",
    "                                            embedding_size['unigrams'],\n",
    "                                            mask_zero=True,\n",
    "                                            name = 'embedding_unigrams')(unigrams)\n",
    "    \n",
    "    bigrams = K.layers.Input(shape=(None,))\n",
    "    embedding_bigrams = K.layers.Embedding(vocab_size[\"bigrams\"],\n",
    "                                           embedding_size['bigrams'],\n",
    "                                           mask_zero=True,\n",
    "                                           name = 'embedding_bigrams')(bigrams)\n",
    "\n",
    "    merged_vector = K.layers.concatenate([embedding_unigrams, embedding_bigrams], axis=-1, name = 'concatenated')\n",
    "    \n",
    "    BI_LSTM = (K.layers.Bidirectional(\n",
    "               K.layers.LSTM(hidden_size, dropout = LSTM_DROPOUT, recurrent_dropout = RECURRENT_DROPOUT,\n",
    "                             return_sequences=True),name = 'Bi-directional_LSTM'))(merged_vector)\n",
    "    \n",
    "    predictions = K.layers.TimeDistributed(K.layers.Dense(4, activation='softmax'))(BI_LSTM)\n",
    "    \n",
    "    model = K.models.Model(inputs=[unigrams, bigrams], outputs=predictions) \n",
    "    \n",
    "    model.compile(loss = 'categorical_crossentropy',\n",
    "                  optimizer = K.optimizers.Adam(lr=LEARNING_RATE, clipnorm=1., clipvalue=0.5),\n",
    "                  metrics = ['acc', K.metrics.Precision()])\n",
    "\n",
    "    return model\n",
    "\n",
    "model = Model_A(VOCAB_SIZE, EMBEDDING_SIZE, HIDDEN_SIZE,\n",
    "                PADDING_SIZE, LEARNING_RATE, INPUT_DROPOUT,\n",
    "                LSTM_DROPOUT, RECURRENT_DROPOUT)\n",
    "# Let's print a summary of the model\n",
    "model.summary()\n",
    "  \n",
    "# def Model_B(vocab_size, embedding_size, hidden_size, PADDING_SIZE):\n",
    "#     print(\"Creating KERAS model\")\n",
    "    \n",
    "#     unigrams = K.layers.Input(shape=(PADDING_SIZE,),name = 'unigrams')\n",
    "#     embedding_unigrams = K.layers.Embedding(vocab_size[\"unigrams\"], embedding_size['unigrams'],\n",
    "#                                             mask_zero=True, name = 'embedding_unigrams')(unigrams)\n",
    "    \n",
    "#     bigrams = K.layers.Input(shape=(PADDING_SIZE,),name = 'bigrams')\n",
    "#     embedding_bigrams = K.layers.Embedding(vocab_size[\"bigrams\"], embedding_size['bigrams'],\n",
    "#                                            mask_zero=True, name = 'embedding_bigrams')(bigrams)\n",
    "\n",
    "#     #merged_vector = K.layers.concatenate([embedding_unigrams, embedding_bigrams], axis=-1, name = 'concatenated')\n",
    "    \n",
    "#     #two different emnedding layers\n",
    "#     LSTM_FORWARD = K.layers.LSTM(hidden_size, dropout=0.2, recurrent_dropout=0.2, return_sequences=True)(embedding_unigrams)\n",
    "#     LSTM_BACKWARDS = K.layers.LSTM(hidden_size, dropout=0.2, recurrent_dropout=0.2, return_sequences=True)(embedding_bigrams)\n",
    "    \n",
    "#     merged_LSTMS = K.layers.concatenate([LSTM_FORWARD, LSTM_BACKWARDS], axis=-1)\n",
    "    \n",
    "#     predictions = K.layers.TimeDistributed(K.layers.Dense(4, activation='softmax'))(merged_LSTMS)\n",
    "    \n",
    "#     model = K.models.Model(inputs=[unigrams, bigrams], outputs=predictions)\n",
    "#     p = K.metrics.Precision()\n",
    "#     a = K.optimizers.Adam(lr=0.002) \n",
    "#     model.compile(loss='categorical_crossentropy', optimizer=a, metrics=['acc', p])\n",
    "\n",
    "#     return model\n",
    "\n",
    "# model = Model_A(VOCAB_SIZE, EMBEDDING_SIZE, HIDDEN_SIZE, PADDING_SIZE, LEARNING_RATE,INPUT_DROPOUT, LSTM_DROPOUT, RECURRENT_DROPOUT)\n",
    "# # Let's print a summary of the model\n",
    "# model.summary()\n"
   ]
  },
  {
   "cell_type": "code",
   "execution_count": 29,
   "metadata": {
    "colab": {
     "base_uri": "https://localhost:8080/",
     "height": 51
    },
    "colab_type": "code",
    "id": "ua5XFu-Qe45G",
    "outputId": "898b3a27-1f75-4807-80c3-e036b29d4255"
   },
   "outputs": [
    {
     "name": "stdout",
     "output_type": "stream",
     "text": [
      "\n",
      "Starting training...\n"
     ]
    }
   ],
   "source": [
    "if not os.path.exists('../resources/report_images'):\n",
    "    os.mkdir('../resources/report_images')\n",
    "\n",
    "cbk = K.callbacks.TensorBoard('../resources/logging/keras_model_'+model_name)\n",
    "print(\"\\nStarting training...\")\n",
    "K.utils.plot_model(model, to_file='../resources/report_images/model.png')"
   ]
  },
  {
   "cell_type": "code",
   "execution_count": 30,
   "metadata": {
    "colab": {},
    "colab_type": "code",
    "id": "mzQBdOH0e45J"
   },
   "outputs": [],
   "source": [
    "early_stopping = K.callbacks.EarlyStopping(monitor='val_loss',\n",
    "                              min_delta=0,\n",
    "                              patience=5,\n",
    "                              verbose=2, mode='auto')\n",
    "csv_logger = K.callbacks.CSVLogger('../resources/logging/keras_model_'+model_name+'.log')"
   ]
  },
  {
   "cell_type": "code",
   "execution_count": 31,
   "metadata": {
    "colab": {
     "base_uri": "https://localhost:8080/",
     "height": 232
    },
    "colab_type": "code",
    "id": "oMntKyxVe45L",
    "outputId": "8d8121d8-878b-4366-9eee-1c0c9085cb90"
   },
   "outputs": [
    {
     "name": "stdout",
     "output_type": "stream",
     "text": [
      "Train on 19056 samples, validate on 1945 samples\n",
      "Epoch 1/20\n",
      "19056/19056 [==============================] - 85s 4ms/sample - loss: 1.1114 - acc: 0.5533 - precision: 0.5765 - val_loss: 1.0850 - val_acc: 0.5480 - val_precision: 0.5913\n",
      "Epoch 2/20\n",
      "19056/19056 [==============================] - 74s 4ms/sample - loss: 1.0377 - acc: 0.5603 - precision: 0.6391 - val_loss: 1.0579 - val_acc: 0.5520 - val_precision: 0.6144\n",
      "Epoch 3/20\n",
      "19056/19056 [==============================] - 77s 4ms/sample - loss: 0.8865 - acc: 0.6242 - precision: 0.7248 - val_loss: 1.0017 - val_acc: 0.5854 - val_precision: 0.6474\n",
      "Epoch 4/20\n",
      "19056/19056 [==============================] - 78s 4ms/sample - loss: 0.6603 - acc: 0.7360 - precision: 0.7940 - val_loss: 1.0603 - val_acc: 0.5799 - val_precision: 0.6306\n",
      "Epoch 5/20\n",
      "19056/19056 [==============================] - 83s 4ms/sample - loss: 0.4741 - acc: 0.8180 - precision: 0.8527 - val_loss: 1.1381 - val_acc: 0.5961 - val_precision: 0.6302\n",
      "Epoch 6/20\n",
      "19056/19056 [==============================] - 85s 4ms/sample - loss: 0.3528 - acc: 0.8681 - precision: 0.8909 - val_loss: 1.2416 - val_acc: 0.5909 - val_precision: 0.6166\n",
      "Epoch 7/20\n",
      "19056/19056 [==============================] - 86s 4ms/sample - loss: 0.2762 - acc: 0.8981 - precision: 0.9142 - val_loss: 1.3605 - val_acc: 0.5886 - val_precision: 0.6097\n",
      "Epoch 8/20\n",
      "19056/19056 [==============================] - 94s 5ms/sample - loss: 0.2196 - acc: 0.9205 - precision: 0.9318 - val_loss: 1.4330 - val_acc: 0.5959 - val_precision: 0.6124\n",
      "Epoch 00008: early stopping\n",
      "Training complete.\n",
      "\n"
     ]
    }
   ],
   "source": [
    "\n",
    "model.fit(data[\"train\"][\"X\"], data[\"train\"][\"y\"],\n",
    "          epochs=epochs, batch_size=batch_size, shuffle=True,\n",
    "          validation_data=(data[\"dev\"][\"X\"], data[\"dev\"][\"y\"]),\n",
    "          callbacks=[cbk, csv_logger, early_stopping]) \n",
    "print(\"Training complete.\\n\")\n",
    "\n"
   ]
  },
  {
   "cell_type": "code",
   "execution_count": 36,
   "metadata": {
    "colab": {},
    "colab_type": "code",
    "id": "1YXVxZ5fe45O"
   },
   "outputs": [],
   "source": [
    "if not os.path.exists('../resources/models'):\n",
    "    os.mkdir('../resources/models')\n",
    "rel_path = '../resources/models'\n",
    "weights = os.path.join(rel_path,'model_weights_'+model_name+'.h5')\n",
    "model_name_save = os.path.join(rel_path,'model_'+model_name+'.h5')\n",
    "model.save_weights(weights) #saving weights for further analysis\n",
    "model.save(model_name_save)"
   ]
  },
  {
   "cell_type": "code",
   "execution_count": 33,
   "metadata": {
    "colab": {},
    "colab_type": "code",
    "id": "UbkyNWu4e45Q"
   },
   "outputs": [],
   "source": [
    "#print(\"\\nEvaluating test...\")\n",
    "#loss_acc = model.evaluate(data[\"test\"][\"X\"], data[\"test\"][\"y\"], verbose=3)\n",
    "#print(\"Test data: loss = %0.6f  accuracy = %0.2f%% \" % (loss_acc[0], loss_acc[1]*100)) "
   ]
  },
  {
   "cell_type": "code",
   "execution_count": 34,
   "metadata": {
    "colab": {},
    "colab_type": "code",
    "id": "H7eDjA5Oe45T",
    "scrolled": true
   },
   "outputs": [],
   "source": [
    "#!tensorboard --logdir logging\n",
    "#model_name"
   ]
  },
  {
   "cell_type": "code",
   "execution_count": 35,
   "metadata": {
    "colab": {
     "base_uri": "https://localhost:8080/",
     "height": 513
    },
    "colab_type": "code",
    "id": "S_Al2dE8e45V",
    "outputId": "625f0b15-28ce-45d6-be87-46d8b475b19c"
   },
   "outputs": [
    {
     "name": "stderr",
     "output_type": "stream",
     "text": [
      "/Library/Frameworks/Python.framework/Versions/3.6/lib/python3.6/site-packages/matplotlib/figure.py:459: UserWarning: matplotlib is currently using a non-GUI backend, so cannot show the figure\n",
      "  \"matplotlib is currently using a non-GUI backend, \"\n"
     ]
    },
    {
     "data": {
      "image/png": "[encoded data removed]",
      "text/plain": [
       "<Figure size 720x504 with 2 Axes>"
      ]
     },
     "metadata": {},
     "output_type": "display_data"
    }
   ],
   "source": [
    "def plot_training(model_name, save = False, PADDING_SIZE = None, epochs = None, subset = None, size = 30):\n",
    "    if not model_name:\n",
    "        selected = False\n",
    "        while not selected:\n",
    "            c=0\n",
    "            for ind, i in enumerate(os.listdir(\"../resources/logging\")):\n",
    "                print(\"{}:\\t{}\".format(ind, i))\n",
    "            x = int(input(\"Please select one of the above with a numer: \"))\n",
    "            model_name = os.listdir(\"../resources/logging\")[x]\n",
    "            if model_name.endswith(\".log\"):\n",
    "                selected = True\n",
    "            else: \n",
    "                print(\"please select a correct log file to load\")\n",
    "        history = pd.read_csv('../resources/logging/'+model_name)\n",
    "        #PADDING_SIZE, epochs, subset = 'Unknown', history.shape[0], 'Unknown'\n",
    "    else:\n",
    "        history = pd.read_csv('../resources/logging/keras_model_'+model_name+'.log')\n",
    "    \n",
    "    fig, axs = plt.subplots(nrows=2, ncols=1, sharex=True, figsize=(10,7))\n",
    "    # summarize history for accuracy\n",
    "    axs[0].plot(history['acc'])\n",
    "    axs[0].plot(history['val_acc'])\n",
    "    #axs[0].title('model accuracy')\n",
    "    axs[0].set_ylabel('accuracy',size = size)\n",
    "    #axs[0].set_xlabel('epoch')\n",
    "    axs[0].set_xticks((list(range(0,epochs))))\n",
    "    axs[0].legend(['train', 'dev'], loc='lower right')\n",
    "    axs[0].grid(alpha=0.7)\n",
    "\n",
    "    axs[0].set_title(\"Padding size = {}, epochs = {}, subset = {}\".format(PADDING_SIZE, epochs, subset), size = size)\n",
    "    \n",
    "    axs[0].tick_params(axis='x', labelsize=int(size/1.5))\n",
    "    axs[1].tick_params(axis='x', labelsize=int(size/1.5))\n",
    "    axs[0].tick_params(axis='y', labelsize=int(size/1.5))\n",
    "    axs[1].tick_params(axis='y', labelsize=int(size/1.5))\n",
    "    \n",
    "    # summarize history for loss\n",
    "    axs[1].plot(history['loss'])\n",
    "    axs[1].plot(history['val_loss'])\n",
    "    axs[1].set_ylabel('loss', size = size)\n",
    "    axs[1].set_xlabel('epoch', size = size)\n",
    "    axs[1].set_xticks((list(range(0,epochs))))\n",
    "    axs[1].legend(['train', 'dev'], loc='lower right')\n",
    "    axs[1].grid(alpha=0.7)\n",
    "    fig.show()\n",
    "    fig.tight_layout()\n",
    "    fig.subplots_adjust(wspace=1, hspace=0.1)\n",
    "    if save:\n",
    "        fig.savefig(\"../resources/report_images/\"+model_name+\"training_plot.png\")\n",
    "plot_training(model_name, True, PADDING_SIZE, 8, SUBSET, size = 20)"
   ]
  },
  {
   "cell_type": "code",
   "execution_count": null,
   "metadata": {
    "colab": {},
    "colab_type": "code",
    "id": "lQBLVooVe45Y"
   },
   "outputs": [],
   "source": []
  }
 ],
 "metadata": {
  "accelerator": "TPU",
  "colab": {
   "collapsed_sections": [],
   "name": "model.ipynb",
   "provenance": [],
   "version": "0.3.2"
  },
  "kernelspec": {
   "display_name": "Python 3",
   "language": "python",
   "name": "python3"
  },
  "language_info": {
   "codemirror_mode": {
    "name": "ipython",
    "version": 3
   },
   "file_extension": ".py",
   "mimetype": "text/x-python",
   "name": "python",
   "nbconvert_exporter": "python",
   "pygments_lexer": "ipython3",
   "version": "3.6.4"
  }
 },
 "nbformat": 4,
 "nbformat_minor": 1
}
