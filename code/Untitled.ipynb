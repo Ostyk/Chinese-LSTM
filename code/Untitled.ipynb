{
 "cells": [
  {
   "cell_type": "markdown",
   "metadata": {},
   "source": [
    "# predict .py"
   ]
  },
  {
   "cell_type": "code",
   "execution_count": 8,
   "metadata": {},
   "outputs": [],
   "source": [
    "from createdataset import *\n",
    "Label_file, Input_file = ChooseDataset('dev', ['cityu'])"
   ]
  },
  {
   "cell_type": "code",
   "execution_count": 9,
   "metadata": {},
   "outputs": [
    {
     "data": {
      "text/plain": [
       "'../icwb2-data/gold/cityu_test_gold_simplified_LabelFile.utf8'"
      ]
     },
     "execution_count": 9,
     "metadata": {},
     "output_type": "execute_result"
    }
   ],
   "source": [
    "Label_file"
   ]
  },
  {
   "cell_type": "code",
   "execution_count": 10,
   "metadata": {},
   "outputs": [
    {
     "data": {
      "text/plain": [
       "'../icwb2-data/gold/cityu_test_gold_simplified_InputFile.utf8'"
      ]
     },
     "execution_count": 10,
     "metadata": {},
     "output_type": "execute_result"
    }
   ],
   "source": [
    "Input_file"
   ]
  },
  {
   "cell_type": "code",
   "execution_count": 11,
   "metadata": {},
   "outputs": [],
   "source": [
    "line = 0"
   ]
  },
  {
   "cell_type": "code",
   "execution_count": 12,
   "metadata": {},
   "outputs": [
    {
     "data": {
      "text/plain": [
       "24"
      ]
     },
     "execution_count": 12,
     "metadata": {},
     "output_type": "execute_result"
    }
   ],
   "source": [
    "f = open('preds.txt').readlines()\n",
    "len(f[line])"
   ]
  },
  {
   "cell_type": "code",
   "execution_count": 13,
   "metadata": {},
   "outputs": [
    {
     "data": {
      "text/plain": [
       "16"
      ]
     },
     "execution_count": 13,
     "metadata": {},
     "output_type": "execute_result"
    }
   ],
   "source": [
    "f1 = open(Label_file).readlines()\n",
    "len(f1[line])"
   ]
  },
  {
   "cell_type": "code",
   "execution_count": 14,
   "metadata": {},
   "outputs": [
    {
     "data": {
      "text/plain": [
       "16"
      ]
     },
     "execution_count": 14,
     "metadata": {},
     "output_type": "execute_result"
    }
   ],
   "source": [
    "f2 = open(Input_file).readlines()\n",
    "len(f2[line])"
   ]
  },
  {
   "cell_type": "code",
   "execution_count": null,
   "metadata": {},
   "outputs": [],
   "source": [
    "[len(l) for l in f2][-10:]"
   ]
  },
  {
   "cell_type": "code",
   "execution_count": null,
   "metadata": {},
   "outputs": [],
   "source": [
    "[len(l) for l in f1][-10:]"
   ]
  },
  {
   "cell_type": "code",
   "execution_count": null,
   "metadata": {},
   "outputs": [],
   "source": []
  },
  {
   "cell_type": "code",
   "execution_count": null,
   "metadata": {},
   "outputs": [],
   "source": []
  },
  {
   "cell_type": "code",
   "execution_count": 2,
   "metadata": {},
   "outputs": [],
   "source": [
    "import json\n",
    "import numpy as np\n",
    "import os\n",
    "import tensorflow.keras as K\n",
    "\n",
    "from createdataset import *"
   ]
  },
  {
   "cell_type": "code",
   "execution_count": 5,
   "metadata": {},
   "outputs": [
    {
     "data": {
      "text/plain": [
       "['model_2019-04-23_16:18:12_-0500.h5',\n",
       " 'model_weights_2019-04-23_22:53:47_-0500cityu.h5',\n",
       " 'model_2019-04-23_22:18:45_-0500.h5',\n",
       " 'model_weights_2019-04-23_04_10_34_+0000.h5',\n",
       " 'model_2019-04-23_22:53:47_-0500cityu.h5',\n",
       " 'model_weights_2019-04-23_22:18:45_-0500.h5',\n",
       " 'model_2019-04-23_04_10_34_+0000.h5',\n",
       " 'model_weights_2019-04-23_16:18:12_-0500.h5']"
      ]
     },
     "execution_count": 5,
     "metadata": {},
     "output_type": "execute_result"
    }
   ],
   "source": [
    "os.listdir(\"../resources/models\")"
   ]
  },
  {
   "cell_type": "code",
   "execution_count": 38,
   "metadata": {},
   "outputs": [],
   "source": [
    "input_path = '../icwb2-data/gold/as_testing_gold_simplified_InputFile.utf8'\n",
    "output_path = 'preds.txt'\n",
    "resources_path = '../resources'"
   ]
  },
  {
   "cell_type": "code",
   "execution_count": 39,
   "metadata": {},
   "outputs": [],
   "source": [
    "with open(os.path.join(resources_path, 'vocabs/cityu_10.json')) as f:\n",
    "    loaded_data = json.load(f)\n",
    "# processing the Input file into feature vectors given the dictionary\n",
    "A = CreateDataset(LabelFile_path = None,\n",
    "                  InputFile_path = input_path,\n",
    "                  PaddingSize = None,\n",
    "                  set_type = 'TEST',\n",
    "                  TrainingVocab = [loaded_data['UNIGRAM_DICT'],\n",
    "                                   loaded_data['BIGRAM_DICT']])\n",
    "X_test_uni, X_test_bi = A.DateGenTest()\n",
    "PAD = 1 #UNK\n",
    "padded = lambda x: np.array([xi+[PAD]*(max(map(len, x))-len(xi)) for xi in x])\n",
    "#keeping original lengths\n",
    "lengths = [len(i) for i in X_test_uni]\n",
    "#pad to max line length\n",
    "\n",
    "##################\n",
    "# Model loading #\n",
    "#################\n",
    "loaded_model = K.models.load_model(os.path.join(resources_path, 'models/model_2019-04-23_22:53:47_-0500cityu.h5'))\n",
    "loaded_model.load_weights(os.path.join(resources_path, 'models/model_weights_2019-04-23_22:53:47_-0500cityu.h5'))\n",
    "loaded_model.compile(loss = 'categorical_crossentropy',\n",
    "              optimizer = K.optimizers.Adam(lr=0.0015, clipnorm=1., clipvalue=0.5),\n",
    "              metrics = ['acc', K.metrics.Precision()])\n",
    "\n",
    "## PREDICTION\n",
    "predicted_one_hot = loaded_model.predict([padded(X_test_uni), padded(X_test_bi)])\n",
    "#de - one hot encode\n",
    "predicted = np.argmax(predicted_one_hot, axis=2)\n",
    "\n",
    "predictedBIES = []\n",
    "BIES = {0 : 'B', 1 : 'I', 2 : 'E', 3 : 'S'}\n",
    "for i in range(len(predicted)):\n",
    "    #un-padding to original line lengths\n",
    "    to_bies = list(predicted[i][:lengths[i]])\n",
    "    #decoding into BIES format from numerical classes for each line\n",
    "    BIES_letters = ''.join([BIES[i] for i in to_bies])\n",
    "    #appending to list of lines in BIES\n",
    "    predictedBIES.append(BIES_letters)"
   ]
  },
  {
   "cell_type": "code",
   "execution_count": 52,
   "metadata": {},
   "outputs": [],
   "source": [
    "from tensorflow.keras.preprocessing.sequence import pad_sequences, TimeseriesGenerator\n"
   ]
  },
  {
   "cell_type": "code",
   "execution_count": 58,
   "metadata": {},
   "outputs": [
    {
     "data": {
      "text/plain": [
       "23"
      ]
     },
     "execution_count": 58,
     "metadata": {},
     "output_type": "execute_result"
    }
   ],
   "source": [
    "len(X_test_uni[0])"
   ]
  },
  {
   "cell_type": "code",
   "execution_count": 55,
   "metadata": {},
   "outputs": [
    {
     "data": {
      "text/plain": [
       "144"
      ]
     },
     "execution_count": 55,
     "metadata": {},
     "output_type": "execute_result"
    }
   ],
   "source": [
    "max(map(len, X_test_uni))"
   ]
  },
  {
   "cell_type": "code",
   "execution_count": null,
   "metadata": {},
   "outputs": [],
   "source": [
    "pad_sequences(uni_feature_vectors, truncating='pre', padding='post', maxlen = self.PaddingSize)"
   ]
  },
  {
   "cell_type": "code",
   "execution_count": 40,
   "metadata": {},
   "outputs": [
    {
     "name": "stdout",
     "output_type": "stream",
     "text": [
      "Saved predictions at: preds.txt\n"
     ]
    }
   ],
   "source": [
    "with open(output_path, 'w') as outfile:\n",
    "    outfile.write('\\n'.join(predictedBIES))\n",
    "    print(\"Saved predictions at: {}\".format(output_path))"
   ]
  },
  {
   "cell_type": "code",
   "execution_count": 18,
   "metadata": {},
   "outputs": [
    {
     "data": {
      "text/plain": [
       "'BESSBIIESBESSBE\\n'"
      ]
     },
     "execution_count": 18,
     "metadata": {},
     "output_type": "execute_result"
    }
   ],
   "source": [
    "f1[0][]"
   ]
  },
  {
   "cell_type": "code",
   "execution_count": null,
   "metadata": {},
   "outputs": [],
   "source": [
    "len(X_test_uni)"
   ]
  },
  {
   "cell_type": "code",
   "execution_count": null,
   "metadata": {},
   "outputs": [],
   "source": [
    "python3 score.py preds.txt ../icwb2-data/gold/cityu_test_gold_simplified_LabelFile.utf8"
   ]
  },
  {
   "cell_type": "code",
   "execution_count": 41,
   "metadata": {},
   "outputs": [],
   "source": [
    "def label_text_to_iter(file_path):\n",
    "    iter_ = []\n",
    "    with open(file_path) as f:\n",
    "        for line in f:\n",
    "            line = line.strip().upper()\n",
    "            iter_.append(line)\n",
    "    return iter_"
   ]
  },
  {
   "cell_type": "code",
   "execution_count": 42,
   "metadata": {},
   "outputs": [],
   "source": [
    "pred = label_text_to_iter(\"preds.txt\")"
   ]
  },
  {
   "cell_type": "code",
   "execution_count": 45,
   "metadata": {},
   "outputs": [],
   "source": [
    "gold = label_text_to_iter(\"../icwb2-data/gold/as_testing_gold_simplified_LabelFile.utf8\")"
   ]
  },
  {
   "cell_type": "code",
   "execution_count": 51,
   "metadata": {},
   "outputs": [
    {
     "name": "stdout",
     "output_type": "stream",
     "text": [
      "1635\n",
      "SESSSSEESBEBEEESBEBEESEEESEESS\n",
      "BIESSSBESBEBEBESBEBIESBEBIEBESS\n",
      "3111\n",
      "\n",
      "S\n",
      "7768\n",
      "\n",
      "S\n",
      "7867\n",
      "\n",
      "S\n",
      "12973\n",
      "BEEEEEEEEEEEES\n",
      "BESBESBIIIIIIES\n",
      "13098\n",
      "EEEEEEEEEEEEES\n",
      "BIESBESBIIIIIES\n"
     ]
    }
   ],
   "source": [
    "for i in range(len(pred)):\n",
    "    if not len(pred[i]) == len(gold[i]):\n",
    "        print(i)\n",
    "        print(pred[i])\n",
    "        print(gold[i])\n",
    "        continue\n",
    "        \n",
    "    "
   ]
  },
  {
   "cell_type": "code",
   "execution_count": 89,
   "metadata": {},
   "outputs": [
    {
     "data": {
      "text/plain": [
       "(0, 1)"
      ]
     },
     "execution_count": 89,
     "metadata": {},
     "output_type": "execute_result"
    }
   ],
   "source": [
    "len(pred[7768]), len(gold[7768])"
   ]
  },
  {
   "cell_type": "code",
   "execution_count": 90,
   "metadata": {},
   "outputs": [
    {
     "data": {
      "text/plain": [
       "''"
      ]
     },
     "execution_count": 90,
     "metadata": {},
     "output_type": "execute_result"
    }
   ],
   "source": [
    "pred[7768]"
   ]
  },
  {
   "cell_type": "code",
   "execution_count": 91,
   "metadata": {},
   "outputs": [
    {
     "data": {
      "text/plain": [
       "'S'"
      ]
     },
     "execution_count": 91,
     "metadata": {},
     "output_type": "execute_result"
    }
   ],
   "source": [
    "gold[7768]"
   ]
  },
  {
   "cell_type": "code",
   "execution_count": 92,
   "metadata": {},
   "outputs": [
    {
     "data": {
      "text/plain": [
       "0"
      ]
     },
     "execution_count": 92,
     "metadata": {},
     "output_type": "execute_result"
    }
   ],
   "source": [
    "len(X_test_uni[7768])"
   ]
  },
  {
   "cell_type": "code",
   "execution_count": 69,
   "metadata": {},
   "outputs": [],
   "source": [
    "def split_into_grams(sentence: str, type_ = 'uni_grams') -> List[str]:\n",
    "        \"\"\"\n",
    "        :param sentence Sentence as str\n",
    "        :type_: uni_grams or _bigrams\n",
    "        :return bigrams List of unigrams or bigrams\n",
    "        \"\"\"\n",
    "        n = 1 if type_ == 'uni_grams' else 2\n",
    "        grams = []\n",
    "        for i in range(len(sentence)): #not -1\n",
    "            gram = sentence[i:i+n]\n",
    "            grams.append(gram)\n",
    "        return grams\n"
   ]
  },
  {
   "cell_type": "code",
   "execution_count": 78,
   "metadata": {},
   "outputs": [],
   "source": [
    "f = label_text_to_iter(\"../icwb2-data/gold/as_testing_gold_simplified.utf8\")"
   ]
  },
  {
   "cell_type": "code",
   "execution_count": 93,
   "metadata": {},
   "outputs": [
    {
     "data": {
      "text/plain": [
       "''"
      ]
     },
     "execution_count": 93,
     "metadata": {},
     "output_type": "execute_result"
    }
   ],
   "source": [
    "f[7768]"
   ]
  },
  {
   "cell_type": "code",
   "execution_count": 94,
   "metadata": {},
   "outputs": [
    {
     "data": {
      "text/plain": [
       "0"
      ]
     },
     "execution_count": 94,
     "metadata": {},
     "output_type": "execute_result"
    }
   ],
   "source": [
    "len(split_into_grams(f[7768]))"
   ]
  },
  {
   "cell_type": "code",
   "execution_count": 95,
   "metadata": {},
   "outputs": [
    {
     "data": {
      "text/plain": [
       "[]"
      ]
     },
     "execution_count": 95,
     "metadata": {},
     "output_type": "execute_result"
    }
   ],
   "source": [
    "split_into_grams(f[7768], 'bigrams')"
   ]
  },
  {
   "cell_type": "code",
   "execution_count": 101,
   "metadata": {},
   "outputs": [],
   "source": [
    "def BIESencoder(line, type_of_file):\n",
    "    '''encodes a single line to the BIES Format'''\n",
    "\n",
    "    new_line = ''\n",
    "    #uses the +u3000 seperator if the file is 'AS'\n",
    "    words = line.rstrip().split(\"\\u3000\") if type_of_file == 'as' else line.rstrip().split(\" \")\n",
    "    #print(\"N of segments:\",len(words))\n",
    "    def bies_format(word):\n",
    "        '''changes word to BIES format'''\n",
    "        if len(word)>1:\n",
    "            return 'B'+'I'*int(len(word)-2)+'E'\n",
    "        elif len(word) == 1:\n",
    "            return 'S'\n",
    "        else:\n",
    "            return ''\n",
    "\n",
    "    for word in words:\n",
    "        #if verbose: print(\"this is a word: {} of length {}\".format(word, len(word)))\n",
    "        new_line+=bies_format(word)\n",
    "\n",
    "    return new_line"
   ]
  },
  {
   "cell_type": "code",
   "execution_count": 102,
   "metadata": {},
   "outputs": [
    {
     "data": {
      "text/plain": [
       "''"
      ]
     },
     "execution_count": 102,
     "metadata": {},
     "output_type": "execute_result"
    }
   ],
   "source": [
    "BIESencoder(f[7768], 'as')"
   ]
  },
  {
   "cell_type": "code",
   "execution_count": 97,
   "metadata": {},
   "outputs": [
    {
     "data": {
      "text/plain": [
       "''"
      ]
     },
     "execution_count": 97,
     "metadata": {},
     "output_type": "execute_result"
    }
   ],
   "source": [
    "f[7768]"
   ]
  },
  {
   "cell_type": "code",
   "execution_count": null,
   "metadata": {},
   "outputs": [],
   "source": []
  }
 ],
 "metadata": {
  "kernelspec": {
   "display_name": "Python 3",
   "language": "python",
   "name": "python3"
  },
  "language_info": {
   "codemirror_mode": {
    "name": "ipython",
    "version": 3
   },
   "file_extension": ".py",
   "mimetype": "text/x-python",
   "name": "python",
   "nbconvert_exporter": "python",
   "pygments_lexer": "ipython3",
   "version": "3.6.4"
  }
 },
 "nbformat": 4,
 "nbformat_minor": 2
}
