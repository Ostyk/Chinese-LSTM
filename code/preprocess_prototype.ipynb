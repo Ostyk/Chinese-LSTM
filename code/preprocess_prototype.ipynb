{
 "cells": [
  {
   "cell_type": "code",
   "execution_count": 14,
   "metadata": {},
   "outputs": [],
   "source": [
    "import os"
   ]
  },
  {
   "cell_type": "code",
   "execution_count": 36,
   "metadata": {},
   "outputs": [],
   "source": [
    "class Preprocess(object):\n",
    "    def __init__(self, dataset_path):\n",
    "        self.dataset_path = dataset_path\n",
    "        \n",
    "    def deleteFiles(self, extension = '.txt'):\n",
    "        '''\n",
    "        Deletes all the .txt files in a given directory\n",
    "        Only done to get rid of duplicate .txt files as I am using .utf8 files for training\n",
    "        '''\n",
    "        print(\"Deleteing {} files from {}\".format(extension, self.dataset_path))\n",
    "        for path, subdir, files in os.walk(self.dataset_path):\n",
    "            for name in files: \n",
    "                if name.endswith(extension):\n",
    "                    os.system('rm '+ os.path.join(self.dataset_path,name))\n",
    "                    print('Succesfully removed: {}'.format(name))\n",
    "            print(\"Done\\n\")\n",
    "\n",
    "    def HanziConvert(self, input_file):\n",
    "        '''transoforms a file form Traditional to Simplified Chinese'''\n",
    "\n",
    "        output_file = input_file.split(\".utf8\")[0]+\"_simplified.utf8\"\n",
    "        bash_ = 'hanzi-convert -s ' + input_file + ' > ' + output_file\n",
    "        \n",
    "        os.system(bash_)\n",
    "        print(\"Created {}\".format(output_file))\n",
    "        os.system(\"rm \"+input_file)\n",
    "        print(\"Deleted {}\".format(input_file))\n",
    "        \n",
    "    \n",
    "    def action(self, action_type):\n",
    "        '''performs severtal types of actions on a given directory of files\n",
    "        args:\n",
    "        -- self\n",
    "        -- action_type: translate, InputFile, LabelFile\n",
    "        '''\n",
    "        count, fail = 0, 0\n",
    "        len_ = len(os.listdir(self.dataset_path))\n",
    "        print(\"starting ***{}*** for path: {}\\n\".format(action_type, self.dataset_path))\n",
    "        for path, subdir, files in os.walk(self.dataset_path):\n",
    "            for name in files: \n",
    "                x = os.path.join(self.dataset_path, name)\n",
    "                print(\"File: {}\".format(x))\n",
    "                if action_type == 'Translate': \n",
    "                    \n",
    "                    self.HanziConvert(x)\n",
    "                elif list(os.path.splitext(x))[0].split('/')[-1].endswith('simplified'): #checks for duplicates, so only done from original files\n",
    "                    self.FileEncoder(x, action_type)\n",
    "                else:\n",
    "                    fail+=1\n",
    "                count+=1\n",
    "                print(\">>>{}/{} complete {}\\n\".format(count, len_, '='*40))\n",
    "        print(\"done\\t --failed for {} files\\n\".format(fail))\n",
    "        return None\n",
    "    \n",
    "    \n",
    "    def FileEncoder(self, file_path, type_output='LabelFile'):\n",
    "        '''gives a file in utf converts to a txt in with all lines in the BIES format'''\n",
    "        \n",
    "        type_of_file = file_path.split(\"/\")[-1].split('_')[0] #to see if its an 'AS' file\n",
    "        output_name = list(os.path.splitext(file_path))\n",
    "        output_name.insert(1, '_' + type_output) #inserting file type to output file name\n",
    "        output_name = ''.join(output_name)\n",
    "        \n",
    "        with open(file_path, 'r', encoding ='utf8') as f1, open(output_name, \"w\") as f2:\n",
    "            for line in f1:\n",
    "                if type_output=='LabelFile':\n",
    "                    out = self.BIESencoder(line, type_of_file)\n",
    "                elif type_output=='InputFile':\n",
    "                    out = self.InputEncoder(line, type_of_file)\n",
    "                f2.writelines(out+\"\\n\")\n",
    "        return None\n",
    "    \n",
    "    @staticmethod\n",
    "    def InputEncoder(line, type_of_file):\n",
    "        '''gets rid of spaces in a line. This will be fed to the TF MODEL'''\n",
    "        return line.replace(\"\\u3000\", \"\") if type_of_file == 'as' else line.replace(\" \", \"\")\n",
    "        \n",
    "    \n",
    "    @staticmethod\n",
    "    def BIESencoder(line, type_of_file):\n",
    "        '''encodes a single line to the BIES Format'''\n",
    "\n",
    "        new_line = ''\n",
    "        #uses the +u3000 seperator if the file is 'AS'\n",
    "        words = line.rstrip().split(\"\\u3000\") if type_of_file == 'as' else line.rstrip().split(\" \")\n",
    "        #print(\"N of segments:\",len(words))\n",
    "        def bies_format(word):\n",
    "            '''changes word to BIES format'''\n",
    "            return 'B'+'I'*int(len(word)-2)+'E' if len(word)>1 else 'S'\n",
    "\n",
    "        for word in words:\n",
    "            #if verbose: print(\"this is a word: {} of length {}\".format(word, len(word)))\n",
    "            new_line+=bies_format(word)\n",
    "\n",
    "        return new_line\n",
    "    "
   ]
  },
  {
   "cell_type": "code",
   "execution_count": 37,
   "metadata": {},
   "outputs": [],
   "source": [
    "datasets = {\"training\":'../icwb2-data/training',\n",
    "             \"dev\":'../icwb2-data/gold',\n",
    "             \"testing\":'../icwb2-data/testing'}"
   ]
  },
  {
   "cell_type": "code",
   "execution_count": 38,
   "metadata": {
    "scrolled": false
   },
   "outputs": [
    {
     "name": "stdout",
     "output_type": "stream",
     "text": [
      "Deleteing .txt files from ../icwb2-data/training\n",
      "Done\n",
      "\n",
      "Deleteing .b5 files from ../icwb2-data/training\n",
      "Done\n",
      "\n",
      "starting ***Translate*** for path: ../icwb2-data/training\n",
      "\n",
      "File: ../icwb2-data/training/msr_training.utf8\n",
      "Created ../icwb2-data/training/msr_training_simplified.utf8\n",
      "Deleted ../icwb2-data/training/msr_training.utf8\n",
      ">>>1/6 complete ========================================\n",
      "\n",
      "File: ../icwb2-data/training/pku_training_simplified_InputFile.utf8\n",
      "Created ../icwb2-data/training/pku_training_simplified_InputFile_simplified.utf8\n",
      "Deleted ../icwb2-data/training/pku_training_simplified_InputFile.utf8\n",
      ">>>2/6 complete ========================================\n",
      "\n",
      "File: ../icwb2-data/training/pku_training_simplified_translate.utf8\n",
      "Created ../icwb2-data/training/pku_training_simplified_translate_simplified.utf8\n",
      "Deleted ../icwb2-data/training/pku_training_simplified_translate.utf8\n",
      ">>>3/6 complete ========================================\n",
      "\n",
      "File: ../icwb2-data/training/cityu_training.utf8\n",
      "Created ../icwb2-data/training/cityu_training_simplified.utf8\n",
      "Deleted ../icwb2-data/training/cityu_training.utf8\n",
      ">>>4/6 complete ========================================\n",
      "\n",
      "File: ../icwb2-data/training/pku_training_simplified.utf8\n",
      "Created ../icwb2-data/training/pku_training_simplified_simplified.utf8\n",
      "Deleted ../icwb2-data/training/pku_training_simplified.utf8\n",
      ">>>5/6 complete ========================================\n",
      "\n",
      "File: ../icwb2-data/training/pku_training_simplified_LabelFile.utf8\n",
      "Created ../icwb2-data/training/pku_training_simplified_LabelFile_simplified.utf8\n",
      "Deleted ../icwb2-data/training/pku_training_simplified_LabelFile.utf8\n",
      ">>>6/6 complete ========================================\n",
      "\n",
      "done\t --failed for 0 files\n",
      "\n",
      "starting ***LabelFile*** for path: ../icwb2-data/training\n",
      "\n",
      "File: ../icwb2-data/training/cityu_training_simplified.utf8\n",
      ">>>1/6 complete ========================================\n",
      "\n",
      "File: ../icwb2-data/training/pku_training_simplified_LabelFile_simplified.utf8\n",
      ">>>2/6 complete ========================================\n",
      "\n",
      "File: ../icwb2-data/training/pku_training_simplified_translate_simplified.utf8\n",
      ">>>3/6 complete ========================================\n",
      "\n",
      "File: ../icwb2-data/training/pku_training_simplified_InputFile_simplified.utf8\n",
      ">>>4/6 complete ========================================\n",
      "\n",
      "File: ../icwb2-data/training/msr_training_simplified.utf8\n",
      ">>>5/6 complete ========================================\n",
      "\n",
      "File: ../icwb2-data/training/pku_training_simplified_simplified.utf8\n",
      ">>>6/6 complete ========================================\n",
      "\n",
      "done\t --failed for 0 files\n",
      "\n",
      "starting ***InputFile*** for path: ../icwb2-data/training\n",
      "\n",
      "File: ../icwb2-data/training/cityu_training_simplified.utf8\n",
      ">>>1/12 complete ========================================\n",
      "\n",
      "File: ../icwb2-data/training/pku_training_simplified_LabelFile_simplified.utf8\n",
      ">>>2/12 complete ========================================\n",
      "\n",
      "File: ../icwb2-data/training/pku_training_simplified_simplified_LabelFile.utf8\n",
      ">>>3/12 complete ========================================\n",
      "\n",
      "File: ../icwb2-data/training/pku_training_simplified_LabelFile_simplified_LabelFile.utf8\n",
      ">>>4/12 complete ========================================\n",
      "\n",
      "File: ../icwb2-data/training/pku_training_simplified_translate_simplified.utf8\n",
      ">>>5/12 complete ========================================\n",
      "\n",
      "File: ../icwb2-data/training/pku_training_simplified_InputFile_simplified.utf8\n",
      ">>>6/12 complete ========================================\n",
      "\n",
      "File: ../icwb2-data/training/msr_training_simplified.utf8\n",
      ">>>7/12 complete ========================================\n",
      "\n",
      "File: ../icwb2-data/training/cityu_training_simplified_LabelFile.utf8\n",
      ">>>8/12 complete ========================================\n",
      "\n",
      "File: ../icwb2-data/training/msr_training_simplified_LabelFile.utf8\n",
      ">>>9/12 complete ========================================\n",
      "\n",
      "File: ../icwb2-data/training/pku_training_simplified_simplified.utf8\n",
      ">>>10/12 complete ========================================\n",
      "\n",
      "File: ../icwb2-data/training/pku_training_simplified_translate_simplified_LabelFile.utf8\n",
      ">>>11/12 complete ========================================\n",
      "\n",
      "File: ../icwb2-data/training/pku_training_simplified_InputFile_simplified_LabelFile.utf8\n",
      ">>>12/12 complete ========================================\n",
      "\n",
      "done\t --failed for 6 files\n",
      "\n"
     ]
    }
   ],
   "source": [
    "P = Preprocess(datasets['training'])\n",
    "P.deleteFiles('.txt')\n",
    "P.deleteFiles('.b5')\n",
    "P.action('Translate')\n",
    "P.action('LabelFile') #creates LabelFiles\n",
    "P.action('InputFile') #creates LabelFiles"
   ]
  },
  {
   "cell_type": "code",
   "execution_count": 21,
   "metadata": {},
   "outputs": [
    {
     "name": "stdout",
     "output_type": "stream",
     "text": [
      "----\n"
     ]
    }
   ],
   "source": [
    "print(\"{}\".format(\"-\"* 4))"
   ]
  },
  {
   "cell_type": "code",
   "execution_count": 32,
   "metadata": {},
   "outputs": [
    {
     "data": {
      "text/plain": [
       "True"
      ]
     },
     "execution_count": 32,
     "metadata": {},
     "output_type": "execute_result"
    }
   ],
   "source": [
    "'dev' in datasets.keys() "
   ]
  },
  {
   "cell_type": "code",
   "execution_count": 35,
   "metadata": {},
   "outputs": [
    {
     "data": {
      "text/plain": [
       "{'dev': '../icwb2-data/gold',\n",
       " 'testing': '../icwb2-data/testing',\n",
       " 'training': '../icwb2-data/training'}"
      ]
     },
     "execution_count": 35,
     "metadata": {},
     "output_type": "execute_result"
    }
   ],
   "source": [
    "datasets"
   ]
  },
  {
   "cell_type": "code",
   "execution_count": null,
   "metadata": {},
   "outputs": [],
   "source": []
  }
 ],
 "metadata": {
  "kernelspec": {
   "display_name": "Python 3",
   "language": "python",
   "name": "python3"
  },
  "language_info": {
   "codemirror_mode": {
    "name": "ipython",
    "version": 3
   },
   "file_extension": ".py",
   "mimetype": "text/x-python",
   "name": "python",
   "nbconvert_exporter": "python",
   "pygments_lexer": "ipython3",
   "version": "3.6.4"
  }
 },
 "nbformat": 4,
 "nbformat_minor": 2
}
