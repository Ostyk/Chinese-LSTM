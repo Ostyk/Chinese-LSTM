{
 "cells": [
  {
   "cell_type": "markdown",
   "metadata": {},
   "source": [
    "## Datasets\n",
    "* AS (Traditional Chinese) http://www.khngai.com/chinese/charmap/tblbig.php?page=0\n",
    "* CITYU (Traditional Chinese)\n",
    "* MSR (Simplified Chinese)\n",
    "* PKU (Simplified Chinese)\n",
    "\n",
    "\n",
    "- Each dataset has one train and one dev set\n",
    "- You can find the train datasets in the training folder\n",
    "- Your dev set is in the gold folder\n",
    "- For each dataset use the file with the .utf8 extension\n",
    " "
   ]
  },
  {
   "cell_type": "markdown",
   "metadata": {},
   "source": [
    "## TO DO\n",
    "1. read original file in a train/dev/test fodler\n",
    "2. produce an input file with NO spaces\n",
    "3. and a label file in BIES format"
   ]
  },
  {
   "cell_type": "code",
   "execution_count": 155,
   "metadata": {},
   "outputs": [],
   "source": [
    "datasets = {\"training\":'../icwb2-data/training',\n",
    "             \"dev\":'../icwb2-data/gold',\n",
    "             \"testing\":'../icwb2-data/testing'}"
   ]
  },
  {
   "cell_type": "code",
   "execution_count": 163,
   "metadata": {},
   "outputs": [],
   "source": [
    "class Preprocess(object):\n",
    "    def __init__(self, dataset_path):\n",
    "        self.dataset_path = dataset_path\n",
    "        \n",
    "    def deleteFiles(self, extension = '.txt'):\n",
    "        '''\n",
    "        Deletes all the .txt files in a given directory\n",
    "        Only done to get rid of duplicate .txt files as I am using .utf8 files for training\n",
    "        '''\n",
    "        print(\"Deleteing {} files from {}\".format(extension, self.dataset_path))\n",
    "        for path, subdir, files in os.walk(self.dataset_path):\n",
    "            for name in files: \n",
    "                if name.endswith(extension):\n",
    "                    os.system('rm '+ os.path.join(self.dataset_path,name))\n",
    "                    print('Succesfully removed: {}'.format(name))\n",
    "            print(\"Done\\n\")\n",
    "\n",
    "    def hanzi_convert(self, input_file):\n",
    "        '''transoforms a file form Traditional to Simplified Chinese'''\n",
    "        \n",
    "        _, _, name_, format_ = input_file.split(\".\")\n",
    "        file_name_input = name_.split('/')[-1]\n",
    "        name_ += '_simplified.' + format_\n",
    "        file_name_output = name_.split('/')[-1]\n",
    "\n",
    "        bash_ = 'hanzi-convert -s ' + input_file + ' > ' + name_\n",
    "        os.system(bash_)\n",
    "        print(\"Created {}\".format(file_name_output))\n",
    "        \n",
    "    def traditionalToSimplified(self):\n",
    "        count=0\n",
    "        len_ = len(os.listdir(self.dataset_path))\n",
    "        print(\"start for path: {}\\n\".format(self.dataset_path))\n",
    "        for path, subdir, files in os.walk(self.dataset_path):\n",
    "            for name in files: \n",
    "                x = os.path.join(self.dataset_path, name)\n",
    "                self.hanzi_convert(x)\n",
    "                count+=1\n",
    "                print(\">>>{}/{} complete============\\n\".format(count, len_))\n",
    "        print(\"end\\n\")\n",
    "#         return None\n",
    "    \n",
    "    def action(self, action_type):\n",
    "        count=0\n",
    "        len_ = len(os.listdir(self.dataset_path))\n",
    "        print(\"start for path: {}\\n\".format(self.dataset_path))\n",
    "        for path, subdir, files in os.walk(self.dataset_path):\n",
    "            for name in files: \n",
    "                x = os.path.join(self.dataset_path, name)\n",
    "                print(\"File: {}\".format(x))\n",
    "                if action_type == 'translate': \n",
    "                    self.hanzi_convert(x)\n",
    "                elif action_type == 'InputFile':\n",
    "                    self.InputFile(x)\n",
    "                elif action_type == 'LabelFile':\n",
    "                    self.FileToBIES(x)   \n",
    "                count+=1\n",
    "                print(\">>>{}/{} complete============\\n\".format(count, len_))\n",
    "        print(\"end\\n\")\n",
    "        return None\n",
    "    \n",
    "    \n",
    "    \n",
    "    def InputFile(self, input_file):\n",
    "        '''creates a file to feed to the TF model by getting rid of spaces'''\n",
    "        pass\n",
    "    \n",
    "    \n",
    "    \n",
    "    \n",
    "    @staticmethod\n",
    "    def encoder(line, type_of_file, verbose = False):\n",
    "        '''encodes a single line'''\n",
    "\n",
    "        new_line = ''\n",
    "\n",
    "        #uses the +u3000 seperator if the file is 'AS'\n",
    "        words = line.rstrip().split(\"\\u3000\") if type_of_file == 'as' else line.rstrip().split(\" \")\n",
    "        #print(\"N of segments:\",len(words))\n",
    "\n",
    "        def bies_format(word):\n",
    "            '''changes word to BIES format'''\n",
    "            return 'B'+'I'*int(len(word)-2)+'E' if len(word)>1 else 'S'\n",
    "\n",
    "        for word in words:\n",
    "            if verbose: print(\"this is a word: {} of length {}\".format(word, len(word)))\n",
    "            new_line+=bies_format(word)\n",
    "\n",
    "        return new_line\n",
    "\n",
    "    def FileToBIES(self, file_path):\n",
    "        '''gives a file in utf converts to a txt in with all lines in the BIES format'''\n",
    "\n",
    "\n",
    "        #print(\"HERE:\",file_path)\n",
    "        name_ = file_path.split(\"/\")[-1].split(\".\")[0] + '_labels'\n",
    "        #print(\"NAME\",name_, file_path)\n",
    "        type_of_file = name_.split(\"/\")[-1].split('_')[0] #to see if its an 'AS' file\n",
    "\n",
    "        with open(file_path, 'r', encoding ='utf8') as f1, open(name_+\".txt\", \"w\") as f2:\n",
    "            c=0\n",
    "            for line in f1:\n",
    "                c+=1\n",
    "                #print(\"input line:\\t\",line.rstrip())\n",
    "                out = encoder(line, type_of_file)\n",
    "                #print(\"output line:\\t{}\".format(out))\n",
    "                f2.writelines(out+\"\\n\")\n",
    "        return None\n",
    "    "
   ]
  },
  {
   "cell_type": "code",
   "execution_count": 164,
   "metadata": {},
   "outputs": [
    {
     "name": "stdout",
     "output_type": "stream",
     "text": [
      "Deleteing .txt files from ../icwb2-data/training\n",
      "Done\n",
      "\n"
     ]
    },
    {
     "ename": "AttributeError",
     "evalue": "'Preprocess' object has no attribute 'deletefiles'",
     "output_type": "error",
     "traceback": [
      "\u001b[0;31m---------------------------------------------------------------------------\u001b[0m",
      "\u001b[0;31mAttributeError\u001b[0m                            Traceback (most recent call last)",
      "\u001b[0;32m~/Desktop/Chinese-LSTM/code/msr_training_labels.txt\u001b[0m in \u001b[0;36m<module>\u001b[0;34m()\u001b[0m\n\u001b[1;32m      2\u001b[0m \u001b[0mP\u001b[0m \u001b[0;34m=\u001b[0m \u001b[0mPreprocess\u001b[0m\u001b[0;34m(\u001b[0m\u001b[0mdatasets\u001b[0m\u001b[0;34m[\u001b[0m\u001b[0;34m'training'\u001b[0m\u001b[0;34m]\u001b[0m\u001b[0;34m)\u001b[0m\u001b[0;34m\u001b[0m\u001b[0m\n\u001b[1;32m      3\u001b[0m \u001b[0mP\u001b[0m\u001b[0;34m.\u001b[0m\u001b[0mdeleteFiles\u001b[0m\u001b[0;34m(\u001b[0m\u001b[0;34m'.txt'\u001b[0m\u001b[0;34m)\u001b[0m\u001b[0;34m\u001b[0m\u001b[0m\n\u001b[0;32m----> 4\u001b[0;31m \u001b[0mP\u001b[0m\u001b[0;34m.\u001b[0m\u001b[0mdeletefiles\u001b[0m\u001b[0;34m(\u001b[0m\u001b[0;34m'.b5'\u001b[0m\u001b[0;34m)\u001b[0m\u001b[0;34m\u001b[0m\u001b[0m\n\u001b[0m\u001b[1;32m      5\u001b[0m \u001b[0;31m#P.traditionalToSimplified()\u001b[0m\u001b[0;34m\u001b[0m\u001b[0;34m\u001b[0m\u001b[0m\n\u001b[1;32m      6\u001b[0m \u001b[0mP\u001b[0m\u001b[0;34m.\u001b[0m\u001b[0maction\u001b[0m\u001b[0;34m(\u001b[0m\u001b[0;34m'LabelFile'\u001b[0m\u001b[0;34m)\u001b[0m\u001b[0;34m\u001b[0m\u001b[0m\n",
      "\u001b[0;31mAttributeError\u001b[0m: 'Preprocess' object has no attribute 'deletefiles'"
     ]
    }
   ],
   "source": [
    "import os\n",
    "P = Preprocess(datasets['training'])\n",
    "P.deleteFiles('.txt')\n",
    "P.deletefiles('.b5')\n",
    "#P.traditionalToSimplified()\n",
    "P.action('LabelFile')"
   ]
  },
  {
   "cell_type": "code",
   "execution_count": 3,
   "metadata": {},
   "outputs": [],
   "source": [
    "x = '植物　研究所　所长　周昌弘　先生　当选　第三世界　科学院　（　Ｔｈｅ　Ｔｈｉｒｄ　Ｗｏｒｌｄ　Ａｃａｄｅｍｙ　ｏｆ　Ｓｃｉｅｎｃｅｓ　，'"
   ]
  },
  {
   "cell_type": "code",
   "execution_count": 16,
   "metadata": {},
   "outputs": [
    {
     "data": {
      "text/plain": [
       "['植物',\n",
       " '研究所',\n",
       " '所长',\n",
       " '周昌弘',\n",
       " '先生',\n",
       " '当选',\n",
       " '第三世界',\n",
       " '科学院',\n",
       " '（',\n",
       " 'Ｔｈｅ',\n",
       " 'Ｔｈｉｒｄ',\n",
       " 'Ｗｏｒｌｄ',\n",
       " 'Ａｃａｄｅｍｙ',\n",
       " 'ｏｆ',\n",
       " 'Ｓｃｉｅｎｃｅｓ',\n",
       " '，']"
      ]
     },
     "execution_count": 16,
     "metadata": {},
     "output_type": "execute_result"
    }
   ],
   "source": [
    "x.rstrip().split(\"\\u3000\")"
   ]
  },
  {
   "cell_type": "code",
   "execution_count": 14,
   "metadata": {},
   "outputs": [
    {
     "data": {
      "text/plain": [
       "'Ｔｈｉｒｄ'"
      ]
     },
     "execution_count": 14,
     "metadata": {},
     "output_type": "execute_result"
    }
   ],
   "source": [
    "eng = x.rstrip().split(\"\\u3000\")[10]\n",
    "eng"
   ]
  },
  {
   "cell_type": "code",
   "execution_count": 18,
   "metadata": {},
   "outputs": [
    {
     "data": {
      "text/plain": [
       "('Ｔ', 'ｈ')"
      ]
     },
     "execution_count": 18,
     "metadata": {},
     "output_type": "execute_result"
    }
   ],
   "source": [
    "eng[0],eng[1]"
   ]
  },
  {
   "cell_type": "code",
   "execution_count": null,
   "metadata": {},
   "outputs": [],
   "source": []
  }
 ],
 "metadata": {
  "kernelspec": {
   "display_name": "Python 3",
   "language": "python",
   "name": "python3"
  },
  "language_info": {
   "codemirror_mode": {
    "name": "ipython",
    "version": 3
   },
   "file_extension": ".py",
   "mimetype": "text/x-python",
   "name": "python",
   "nbconvert_exporter": "python",
   "pygments_lexer": "ipython3",
   "version": "3.6.4"
  }
 },
 "nbformat": 4,
 "nbformat_minor": 2
}
