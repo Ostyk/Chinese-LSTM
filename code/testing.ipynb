{
 "cells": [
  {
   "cell_type": "markdown",
   "metadata": {},
   "source": [
    "## Datasets\n",
    "* AS (Traditional Chinese) http://www.khngai.com/chinese/charmap/tblbig.php?page=0\n",
    "* CITYU (Traditional Chinese)\n",
    "* MSR (Simplified Chinese)\n",
    "* PKU (Simplified Chinese)\n",
    "\n",
    "\n",
    "- Each dataset has one train and one dev set\n",
    "- You can find the train datasets in the training folder\n",
    "- Your dev set is in the gold folder\n",
    "- For each dataset use the file with the .utf8 extension\n",
    " "
   ]
  },
  {
   "cell_type": "code",
   "execution_count": 1,
   "metadata": {
    "scrolled": true
   },
   "outputs": [],
   "source": [
    "import os\n",
    "\n",
    "path_training='icwb2-data/training'\n",
    "path_dev='icwb2-data/gold'\n",
    "path_testing='icwb2-data/testing'\n",
    "\n",
    "datasets = [path_training, path_dev, path_testing]\n",
    "def walk_dir(path):\n",
    "    count=0\n",
    "    len_ = len(os.listdir(path))\n",
    "    print(\"start for path: {}\\n\".format(path))\n",
    "    for path, subdir, files in os.walk(path):\n",
    "        for name in files: \n",
    "            x = os.path.join(path,name)\n",
    "            TraditionalToSimplifiedChinese(x)\n",
    "            count+=1\n",
    "            print(\">>>{}/{} complete============\\n\".format(count, len_))\n",
    "    print(\"end\\n\")\n",
    "    return None\n",
    "\n",
    "def TraditionalToSimplifiedChinese(input_file):\n",
    "    '''transforms files'''\n",
    "    \n",
    "    name_, format_ = input_file.split(\".\")\n",
    "    file_name_input = name_.split('/')[-1]\n",
    "    \n",
    "    name_ += '_simplified.' + format_\n",
    "    file_name_output = name_.split('/')[-1]\n",
    "    \n",
    "    bash_ = 'hanzi-convert -s ' + input_file + ' > ' + name_\n",
    "    os.system(bash_)\n",
    "    print(\"Created {}\".format(file_name_output))\n",
    "    #os.system('rm '+ input_file)\n",
    "    #print(\"Deleted {}\".format(file_name_input))\n",
    "    return None\n",
    "\n",
    "#if __main__ == '__name__':\n",
    "#[walk_dir(i) for i in datasets]\n",
    "#walk_dir(path_training)"
   ]
  },
  {
   "cell_type": "code",
   "execution_count": null,
   "metadata": {},
   "outputs": [],
   "source": []
  },
  {
   "cell_type": "code",
   "execution_count": 162,
   "metadata": {},
   "outputs": [],
   "source": [
    "class Preprocess(object):\n",
    "    def __init__(self):\n",
    "        pass\n",
    "        \n",
    "    \n",
    "    @staticmethod \n",
    "    def deleteTxt(path, extension = '.txt'):\n",
    "        '''\n",
    "        Deletes all the .txt files in a given directory\n",
    "        Only done to get rid of duplicate .txt files as I am using .utf8 files for training\n",
    "        '''\n",
    "        print(\"Deleteing {} files from {}\".format(extension, path))\n",
    "        for path, subdir, files in os.walk(path):\n",
    "            for name in files: \n",
    "                if name.endswith(extension):\n",
    "                    os.system('rm '+ os.path.join(path,name))\n",
    "                    print('Succesfully removed: {}'.format(name))\n",
    "            print(\"Done\\n\")\n",
    "            \n",
    "        \n",
    "    def traditionalToSimplified(self):\n",
    "        '''transoforms a file form Traditional to Simplified Chinese'''\n",
    "        \n",
    "        name_, format_ = input_file.split(\".\")\n",
    "        file_name_input = name_.split('/')[-1]\n",
    "        name_ += '_simplified.' + format_\n",
    "        file_name_output = name_.split('/')[-1]\n",
    "\n",
    "        bash_ = 'hanzi-convert -s ' + input_file + ' > ' + name_\n",
    "        os.system(bash_)\n",
    "        print(\"Created {}\".format(file_name_output))\n",
    "        \n",
    "    def walk_dir(path):\n",
    "        count=0\n",
    "        len_ = len(os.listdir(path))\n",
    "        print(\"start for path: {}\\n\".format(path))\n",
    "        for path, subdir, files in os.walk(path):\n",
    "            for name in files: \n",
    "                x = os.path.join(path,name)\n",
    "                TraditionalToSimplifiedChinese(x)\n",
    "                count+=1\n",
    "                print(\">>>{}/{} complete============\\n\".format(count, len_))\n",
    "        print(\"end\\n\")\n",
    "        return None\n",
    "    \n",
    "    \n",
    "    def encoder(self):\n",
    "        pass\n",
    "        \n",
    "    def FileToBIES(self):\n",
    "        pass\n",
    "    \n",
    "    \n",
    "    \n",
    "    def encoder(line, type_of_file, verbose = False):\n",
    "        '''encodes a single line'''\n",
    "\n",
    "        new_line = ''\n",
    "\n",
    "        #uses the +u3000 seperator if the file is 'AS'\n",
    "        words = line.rstrip().split(\"\\u3000\") if type_of_file == 'as' else line.rstrip().split(\" \")\n",
    "        #print(\"N of segments:\",len(words))\n",
    "\n",
    "        def bies_format(word):\n",
    "            '''changes word to BIES format'''\n",
    "            return 'B'+'I'*int(len(word)-2)+'E' if len(word)>1 else 'S'\n",
    "\n",
    "        for word in words:\n",
    "            if verbose: print(\"this is a word: {} of length {}\".format(word, len(word)))\n",
    "            new_line+=bies_format(word)\n",
    "\n",
    "        return new_line\n",
    "\n",
    "    def FileToBIES(file_path):\n",
    "        '''gives a file in utf converts to a txt in with all lines in the BIES format'''\n",
    "\n",
    "        name_ = file_path.split(\".\")[-2] + '_labels'\n",
    "        type_of_file = name_.split(\"/\")[-1].split('_')[0] #to see if its an 'AS' file\n",
    "\n",
    "        with open(file_path, 'r', encoding ='utf8') as f1, open(name_+\".txt\", \"w\") as f2:\n",
    "            c=0\n",
    "            for line in f1:\n",
    "                c+=1\n",
    "                print(\"input line:\\t\",line.rstrip())\n",
    "                out = encoder(line, type_of_file)\n",
    "                print(\"output line:\\t{}\".format(out))\n",
    "                f2.writelines(out+\"\\n\")\n",
    "                if c==2:\n",
    "                    break\n",
    "        return None"
   ]
  },
  {
   "cell_type": "code",
   "execution_count": 3,
   "metadata": {},
   "outputs": [
    {
     "name": "stdout",
     "output_type": "stream",
     "text": [
      "Deleteing .txt files from icwb2-data/gold\n"
     ]
    }
   ],
   "source": [
    "Preprocess.deleteTxt('icwb2-data/gold')"
   ]
  },
  {
   "cell_type": "code",
   "execution_count": null,
   "metadata": {},
   "outputs": [],
   "source": []
  },
  {
   "cell_type": "code",
   "execution_count": null,
   "metadata": {},
   "outputs": [],
   "source": []
  },
  {
   "cell_type": "code",
   "execution_count": 4,
   "metadata": {},
   "outputs": [],
   "source": [
    "class BIES(object):\n",
    "    \n",
    "    def __init__(self, word):\n",
    "        self.word = word\n",
    "        \n",
    "    \n",
    "    def encode(self, line, type_of_file, verbose = False):\n",
    "        '''encodes a single line'''\n",
    "        new_line = ''\n",
    "        #uses the +u3000 seperator if the file is 'AS'\n",
    "        words = line.rstrip().split(\"\\u3000\") if type_of_file == 'as' else line.rstrip().split(\" \")\n",
    "        \n",
    "        def bies_format(word):\n",
    "            '''changes word to BIES format'''\n",
    "            return 'B'+'I'*int(len(word)-2)+'E' if len(word)>1 else 'S'\n",
    "        \n",
    "        for word in words:\n",
    "            new_line+=bies_format(word)\n",
    "\n",
    "        return new_line\n",
    "    \n",
    "    def decode(self):\n",
    "        pass\n",
    "    \n",
    "A = BIES('w')"
   ]
  },
  {
   "cell_type": "code",
   "execution_count": 5,
   "metadata": {},
   "outputs": [
    {
     "data": {
      "text/plain": [
       "__main__.BIES"
      ]
     },
     "execution_count": 5,
     "metadata": {},
     "output_type": "execute_result"
    }
   ],
   "source": [
    "BIES"
   ]
  },
  {
   "cell_type": "code",
   "execution_count": 125,
   "metadata": {},
   "outputs": [],
   "source": [
    "def encoder(line, type_of_file, verbose = False):\n",
    "    '''encodes a single line'''\n",
    "    \n",
    "    new_line = ''\n",
    "        \n",
    "    #uses the +u3000 seperator if the file is 'AS'\n",
    "    words = line.rstrip().split(\"\\u3000\") if type_of_file == 'as' else line.rstrip().split(\" \")\n",
    "    print(\"N of segments:\",len(words))\n",
    "    \n",
    "    def bies_format(word):\n",
    "        '''changes word to BIES format'''\n",
    "        return 'B'+'I'*int(len(word)-2)+'E' if len(word)>1 else 'S'\n",
    "    \n",
    "    for word in words:\n",
    "        if verbose: print(\"this is a word: {} of length {}\".format(word, len(word)))\n",
    "        new_line+=bies_format(word)\n",
    "        \n",
    "    return new_line\n",
    "\n",
    "def FileToBIES(file_path):\n",
    "    '''gives a file in utf converts to a txt in with all lines in the BIES format'''\n",
    "    print(file_path, file_path.split(\".\"))\n",
    "    name_ = file_path.split(\"/\")[-1].split(\".\")[0] + '_labels'\n",
    "    type_of_file = name_.split(\"/\")[-1].split('_')[0] #to see if its an 'AS' file\n",
    "    print(\"NAME\",name_)\n",
    "    with open(file_path, 'r', encoding ='utf8') as f1, open(name_+\".txt\", \"w\") as f2:\n",
    "        c=0\n",
    "        for line in f1:\n",
    "            c+=1\n",
    "            print(\"input line:\\t\",line.rstrip())\n",
    "            out = encoder(line, type_of_file)\n",
    "            print(\"output line:\\t{}\".format(out))\n",
    "            f2.writelines(out+\"\\n\")\n",
    "            if c==2:\n",
    "                break\n",
    "    return None"
   ]
  },
  {
   "cell_type": "code",
   "execution_count": 126,
   "metadata": {
    "scrolled": true
   },
   "outputs": [
    {
     "name": "stdout",
     "output_type": "stream",
     "text": [
      "../icwb2-data/training/pku_training.utf8 ['', '', '/icwb2-data/training/pku_training', 'utf8']\n",
      "NAME pku_training_labels\n",
      "input line:\t 迈向  充满  希望  的  新  世纪  ——  一九九八年  新年  讲话  （  附  图片  １  张  ）\n",
      "N of segments: 31\n",
      "output line:\tBESBESBESSSSSBESBESBIIIESBESBESSSSSBESSSSSS\n",
      "input line:\t 中共中央  总书记  、  国家  主席  江  泽民\n",
      "N of segments: 13\n",
      "output line:\tBIIESBIESSSBESBESSSBE\n"
     ]
    }
   ],
   "source": [
    "FileToBIES(file_path = '../icwb2-data/training/pku_training.utf8')"
   ]
  },
  {
   "cell_type": "code",
   "execution_count": 127,
   "metadata": {},
   "outputs": [
    {
     "data": {
      "text/plain": [
       "'pku_training'"
      ]
     },
     "execution_count": 127,
     "metadata": {},
     "output_type": "execute_result"
    }
   ],
   "source": [
    "'../icwb2-data/training/pku_training.utf8'.split(\"/\")[-1].split(\".\")[0]"
   ]
  },
  {
   "cell_type": "code",
   "execution_count": 129,
   "metadata": {},
   "outputs": [
    {
     "name": "stdout",
     "output_type": "stream",
     "text": [
      "../icwb2-data/training/msr_training.utf8 ['', '', '/icwb2-data/training/msr_training', 'utf8']\n",
      "NAME msr_training_labels\n",
      "input line:\t “  人们  常  说  生活  是  一  部  教科书  ，  而  血  与  火  的  战争  更  是  不可多得  的  教科书  ，  她  确实  是  名副其实  的  ‘  我  的  大学  ’  。\n",
      "N of segments: 65\n",
      "output line:\tSSBESSSSSBESSSSSSSBIESSSSSSSSSSSSSBESSSSSBIIESSSBIESSSSSBESSSBIIESSSSSSSSSBESSSS\n",
      "input line:\t “  心  静  渐  知  春  似  海  ，  花  深  每  觉  影  生  香  。\n",
      "N of segments: 33\n",
      "output line:\tSSSSSSSSSSSSSSSSSSSSSSSSSSSSSSSSS\n"
     ]
    }
   ],
   "source": [
    "FileToBIES(file_path = '../icwb2-data/training/msr_training.utf8')"
   ]
  },
  {
   "cell_type": "code",
   "execution_count": 9,
   "metadata": {},
   "outputs": [
    {
     "name": "stdout",
     "output_type": "stream",
     "text": [
      "icwb2-data/training/cityu_training.utf8\n"
     ]
    },
    {
     "ename": "FileNotFoundError",
     "evalue": "[Errno 2] No such file or directory: 'icwb2-data/training/cityu_training.utf8'",
     "output_type": "error",
     "traceback": [
      "\u001b[0;31m---------------------------------------------------------------------------\u001b[0m",
      "\u001b[0;31mFileNotFoundError\u001b[0m                         Traceback (most recent call last)",
      "\u001b[0;32m<ipython-input-9-28d107b15dc1>\u001b[0m in \u001b[0;36m<module>\u001b[0;34m()\u001b[0m\n\u001b[0;32m----> 1\u001b[0;31m \u001b[0mFileToBIES\u001b[0m\u001b[0;34m(\u001b[0m\u001b[0mfile_path\u001b[0m \u001b[0;34m=\u001b[0m \u001b[0;34m'icwb2-data/training/cityu_training.utf8'\u001b[0m\u001b[0;34m)\u001b[0m\u001b[0;34m\u001b[0m\u001b[0m\n\u001b[0m",
      "\u001b[0;32m<ipython-input-6-19f830121dd5>\u001b[0m in \u001b[0;36mFileToBIES\u001b[0;34m(file_path)\u001b[0m\n\u001b[1;32m     24\u001b[0m     \u001b[0mtype_of_file\u001b[0m \u001b[0;34m=\u001b[0m \u001b[0mname_\u001b[0m\u001b[0;34m.\u001b[0m\u001b[0msplit\u001b[0m\u001b[0;34m(\u001b[0m\u001b[0;34m\"/\"\u001b[0m\u001b[0;34m)\u001b[0m\u001b[0;34m[\u001b[0m\u001b[0;34m-\u001b[0m\u001b[0;36m1\u001b[0m\u001b[0;34m]\u001b[0m\u001b[0;34m.\u001b[0m\u001b[0msplit\u001b[0m\u001b[0;34m(\u001b[0m\u001b[0;34m'_'\u001b[0m\u001b[0;34m)\u001b[0m\u001b[0;34m[\u001b[0m\u001b[0;36m0\u001b[0m\u001b[0;34m]\u001b[0m \u001b[0;31m#to see if its an 'AS' file\u001b[0m\u001b[0;34m\u001b[0m\u001b[0m\n\u001b[1;32m     25\u001b[0m \u001b[0;34m\u001b[0m\u001b[0m\n\u001b[0;32m---> 26\u001b[0;31m     \u001b[0;32mwith\u001b[0m \u001b[0mopen\u001b[0m\u001b[0;34m(\u001b[0m\u001b[0mfile_path\u001b[0m\u001b[0;34m,\u001b[0m \u001b[0;34m'r'\u001b[0m\u001b[0;34m,\u001b[0m \u001b[0mencoding\u001b[0m \u001b[0;34m=\u001b[0m\u001b[0;34m'utf8'\u001b[0m\u001b[0;34m)\u001b[0m \u001b[0;32mas\u001b[0m \u001b[0mf1\u001b[0m\u001b[0;34m,\u001b[0m \u001b[0mopen\u001b[0m\u001b[0;34m(\u001b[0m\u001b[0mname_\u001b[0m\u001b[0;34m+\u001b[0m\u001b[0;34m\".txt\"\u001b[0m\u001b[0;34m,\u001b[0m \u001b[0;34m\"w\"\u001b[0m\u001b[0;34m)\u001b[0m \u001b[0;32mas\u001b[0m \u001b[0mf2\u001b[0m\u001b[0;34m:\u001b[0m\u001b[0;34m\u001b[0m\u001b[0m\n\u001b[0m\u001b[1;32m     27\u001b[0m         \u001b[0mc\u001b[0m\u001b[0;34m=\u001b[0m\u001b[0;36m0\u001b[0m\u001b[0;34m\u001b[0m\u001b[0m\n\u001b[1;32m     28\u001b[0m         \u001b[0;32mfor\u001b[0m \u001b[0mline\u001b[0m \u001b[0;32min\u001b[0m \u001b[0mf1\u001b[0m\u001b[0;34m:\u001b[0m\u001b[0;34m\u001b[0m\u001b[0m\n",
      "\u001b[0;31mFileNotFoundError\u001b[0m: [Errno 2] No such file or directory: 'icwb2-data/training/cityu_training.utf8'"
     ]
    }
   ],
   "source": [
    "FileToBIES(file_path = 'icwb2-data/training/cityu_training.utf8')"
   ]
  },
  {
   "cell_type": "code",
   "execution_count": 10,
   "metadata": {},
   "outputs": [
    {
     "name": "stdout",
     "output_type": "stream",
     "text": [
      "icwb2-data/training/as_training.utf8\n"
     ]
    },
    {
     "ename": "FileNotFoundError",
     "evalue": "[Errno 2] No such file or directory: 'icwb2-data/training/as_training.utf8'",
     "output_type": "error",
     "traceback": [
      "\u001b[0;31m---------------------------------------------------------------------------\u001b[0m",
      "\u001b[0;31mFileNotFoundError\u001b[0m                         Traceback (most recent call last)",
      "\u001b[0;32m<ipython-input-10-79914a6ae436>\u001b[0m in \u001b[0;36m<module>\u001b[0;34m()\u001b[0m\n\u001b[0;32m----> 1\u001b[0;31m \u001b[0mFileToBIES\u001b[0m\u001b[0;34m(\u001b[0m\u001b[0mfile_path\u001b[0m \u001b[0;34m=\u001b[0m \u001b[0;34m'icwb2-data/training/as_training.utf8'\u001b[0m\u001b[0;34m)\u001b[0m\u001b[0;34m\u001b[0m\u001b[0m\n\u001b[0m",
      "\u001b[0;32m<ipython-input-6-19f830121dd5>\u001b[0m in \u001b[0;36mFileToBIES\u001b[0;34m(file_path)\u001b[0m\n\u001b[1;32m     24\u001b[0m     \u001b[0mtype_of_file\u001b[0m \u001b[0;34m=\u001b[0m \u001b[0mname_\u001b[0m\u001b[0;34m.\u001b[0m\u001b[0msplit\u001b[0m\u001b[0;34m(\u001b[0m\u001b[0;34m\"/\"\u001b[0m\u001b[0;34m)\u001b[0m\u001b[0;34m[\u001b[0m\u001b[0;34m-\u001b[0m\u001b[0;36m1\u001b[0m\u001b[0;34m]\u001b[0m\u001b[0;34m.\u001b[0m\u001b[0msplit\u001b[0m\u001b[0;34m(\u001b[0m\u001b[0;34m'_'\u001b[0m\u001b[0;34m)\u001b[0m\u001b[0;34m[\u001b[0m\u001b[0;36m0\u001b[0m\u001b[0;34m]\u001b[0m \u001b[0;31m#to see if its an 'AS' file\u001b[0m\u001b[0;34m\u001b[0m\u001b[0m\n\u001b[1;32m     25\u001b[0m \u001b[0;34m\u001b[0m\u001b[0m\n\u001b[0;32m---> 26\u001b[0;31m     \u001b[0;32mwith\u001b[0m \u001b[0mopen\u001b[0m\u001b[0;34m(\u001b[0m\u001b[0mfile_path\u001b[0m\u001b[0;34m,\u001b[0m \u001b[0;34m'r'\u001b[0m\u001b[0;34m,\u001b[0m \u001b[0mencoding\u001b[0m \u001b[0;34m=\u001b[0m\u001b[0;34m'utf8'\u001b[0m\u001b[0;34m)\u001b[0m \u001b[0;32mas\u001b[0m \u001b[0mf1\u001b[0m\u001b[0;34m,\u001b[0m \u001b[0mopen\u001b[0m\u001b[0;34m(\u001b[0m\u001b[0mname_\u001b[0m\u001b[0;34m+\u001b[0m\u001b[0;34m\".txt\"\u001b[0m\u001b[0;34m,\u001b[0m \u001b[0;34m\"w\"\u001b[0m\u001b[0;34m)\u001b[0m \u001b[0;32mas\u001b[0m \u001b[0mf2\u001b[0m\u001b[0;34m:\u001b[0m\u001b[0;34m\u001b[0m\u001b[0m\n\u001b[0m\u001b[1;32m     27\u001b[0m         \u001b[0mc\u001b[0m\u001b[0;34m=\u001b[0m\u001b[0;36m0\u001b[0m\u001b[0;34m\u001b[0m\u001b[0m\n\u001b[1;32m     28\u001b[0m         \u001b[0;32mfor\u001b[0m \u001b[0mline\u001b[0m \u001b[0;32min\u001b[0m \u001b[0mf1\u001b[0m\u001b[0;34m:\u001b[0m\u001b[0;34m\u001b[0m\u001b[0m\n",
      "\u001b[0;31mFileNotFoundError\u001b[0m: [Errno 2] No such file or directory: 'icwb2-data/training/as_training.utf8'"
     ]
    }
   ],
   "source": [
    "FileToBIES(file_path = 'icwb2-data/training/as_training.utf8')"
   ]
  },
  {
   "cell_type": "code",
   "execution_count": 11,
   "metadata": {},
   "outputs": [
    {
     "name": "stdout",
     "output_type": "stream",
     "text": [
      "sample_files/sample_icwb2.utf8\n"
     ]
    },
    {
     "ename": "FileNotFoundError",
     "evalue": "[Errno 2] No such file or directory: 'sample_files/sample_icwb2.utf8'",
     "output_type": "error",
     "traceback": [
      "\u001b[0;31m---------------------------------------------------------------------------\u001b[0m",
      "\u001b[0;31mFileNotFoundError\u001b[0m                         Traceback (most recent call last)",
      "\u001b[0;32m<ipython-input-11-debf8b5dad13>\u001b[0m in \u001b[0;36m<module>\u001b[0;34m()\u001b[0m\n\u001b[0;32m----> 1\u001b[0;31m \u001b[0mFileToBIES\u001b[0m\u001b[0;34m(\u001b[0m\u001b[0mfile_path\u001b[0m \u001b[0;34m=\u001b[0m \u001b[0;34m'sample_files/sample_icwb2.utf8'\u001b[0m\u001b[0;34m)\u001b[0m\u001b[0;34m\u001b[0m\u001b[0m\n\u001b[0m",
      "\u001b[0;32m<ipython-input-6-19f830121dd5>\u001b[0m in \u001b[0;36mFileToBIES\u001b[0;34m(file_path)\u001b[0m\n\u001b[1;32m     24\u001b[0m     \u001b[0mtype_of_file\u001b[0m \u001b[0;34m=\u001b[0m \u001b[0mname_\u001b[0m\u001b[0;34m.\u001b[0m\u001b[0msplit\u001b[0m\u001b[0;34m(\u001b[0m\u001b[0;34m\"/\"\u001b[0m\u001b[0;34m)\u001b[0m\u001b[0;34m[\u001b[0m\u001b[0;34m-\u001b[0m\u001b[0;36m1\u001b[0m\u001b[0;34m]\u001b[0m\u001b[0;34m.\u001b[0m\u001b[0msplit\u001b[0m\u001b[0;34m(\u001b[0m\u001b[0;34m'_'\u001b[0m\u001b[0;34m)\u001b[0m\u001b[0;34m[\u001b[0m\u001b[0;36m0\u001b[0m\u001b[0;34m]\u001b[0m \u001b[0;31m#to see if its an 'AS' file\u001b[0m\u001b[0;34m\u001b[0m\u001b[0m\n\u001b[1;32m     25\u001b[0m \u001b[0;34m\u001b[0m\u001b[0m\n\u001b[0;32m---> 26\u001b[0;31m     \u001b[0;32mwith\u001b[0m \u001b[0mopen\u001b[0m\u001b[0;34m(\u001b[0m\u001b[0mfile_path\u001b[0m\u001b[0;34m,\u001b[0m \u001b[0;34m'r'\u001b[0m\u001b[0;34m,\u001b[0m \u001b[0mencoding\u001b[0m \u001b[0;34m=\u001b[0m\u001b[0;34m'utf8'\u001b[0m\u001b[0;34m)\u001b[0m \u001b[0;32mas\u001b[0m \u001b[0mf1\u001b[0m\u001b[0;34m,\u001b[0m \u001b[0mopen\u001b[0m\u001b[0;34m(\u001b[0m\u001b[0mname_\u001b[0m\u001b[0;34m+\u001b[0m\u001b[0;34m\".txt\"\u001b[0m\u001b[0;34m,\u001b[0m \u001b[0;34m\"w\"\u001b[0m\u001b[0;34m)\u001b[0m \u001b[0;32mas\u001b[0m \u001b[0mf2\u001b[0m\u001b[0;34m:\u001b[0m\u001b[0;34m\u001b[0m\u001b[0m\n\u001b[0m\u001b[1;32m     27\u001b[0m         \u001b[0mc\u001b[0m\u001b[0;34m=\u001b[0m\u001b[0;36m0\u001b[0m\u001b[0;34m\u001b[0m\u001b[0m\n\u001b[1;32m     28\u001b[0m         \u001b[0;32mfor\u001b[0m \u001b[0mline\u001b[0m \u001b[0;32min\u001b[0m \u001b[0mf1\u001b[0m\u001b[0;34m:\u001b[0m\u001b[0;34m\u001b[0m\u001b[0m\n",
      "\u001b[0;31mFileNotFoundError\u001b[0m: [Errno 2] No such file or directory: 'sample_files/sample_icwb2.utf8'"
     ]
    }
   ],
   "source": [
    "FileToBIES(file_path = 'sample_files/sample_icwb2.utf8')"
   ]
  },
  {
   "cell_type": "markdown",
   "metadata": {},
   "source": [
    "## TO DO\n",
    "1. read original file in a train/dev/test fodler\n",
    "2. produce an input file with NO spaces\n",
    "3. and a label file in BIES format"
   ]
  },
  {
   "cell_type": "code",
   "execution_count": 12,
   "metadata": {},
   "outputs": [
    {
     "name": "stdout",
     "output_type": "stream",
     "text": [
      "end\n",
      "\n"
     ]
    }
   ],
   "source": [
    "#delete txt\n",
    "import os\n",
    "path_training='icwb2-data/training'\n",
    "path_dev='icwb2-data/gold'\n",
    "path_testing='icwb2-data/testing'\n",
    "\n",
    "\n",
    "path = path_training\n",
    "\n",
    "for path, subdir, files in os.walk(path):\n",
    "    for name in files: \n",
    "        if name.endswith('.txt'):\n",
    "            os.system('rm '+ os.path.join(path,name))\n",
    "            print('Succesfully removed: {}'.format(name))\n",
    "print(\"end\\n\")"
   ]
  },
  {
   "cell_type": "code",
   "execution_count": 13,
   "metadata": {},
   "outputs": [
    {
     "ename": "NameError",
     "evalue": "name 'name' is not defined",
     "output_type": "error",
     "traceback": [
      "\u001b[0;31m---------------------------------------------------------------------------\u001b[0m",
      "\u001b[0;31mNameError\u001b[0m                                 Traceback (most recent call last)",
      "\u001b[0;32m<ipython-input-13-01ad0c396e20>\u001b[0m in \u001b[0;36m<module>\u001b[0;34m()\u001b[0m\n\u001b[0;32m----> 1\u001b[0;31m \u001b[0mname\u001b[0m\u001b[0;34m.\u001b[0m\u001b[0msplit\u001b[0m\u001b[0;34m(\u001b[0m\u001b[0;34m\".\"\u001b[0m\u001b[0;34m)\u001b[0m\u001b[0;34m\u001b[0m\u001b[0m\n\u001b[0m",
      "\u001b[0;31mNameError\u001b[0m: name 'name' is not defined"
     ]
    }
   ],
   "source": [
    "name.split(\".\")"
   ]
  },
  {
   "cell_type": "code",
   "execution_count": null,
   "metadata": {},
   "outputs": [],
   "source": [
    "\n"
   ]
  },
  {
   "cell_type": "code",
   "execution_count": null,
   "metadata": {},
   "outputs": [],
   "source": []
  },
  {
   "cell_type": "code",
   "execution_count": null,
   "metadata": {},
   "outputs": [],
   "source": []
  },
  {
   "cell_type": "code",
   "execution_count": null,
   "metadata": {},
   "outputs": [],
   "source": []
  },
  {
   "cell_type": "code",
   "execution_count": null,
   "metadata": {},
   "outputs": [],
   "source": []
  },
  {
   "cell_type": "code",
   "execution_count": 155,
   "metadata": {},
   "outputs": [],
   "source": [
    "datasets = {\"training\":'../icwb2-data/training',\n",
    "             \"dev\":'../icwb2-data/gold',\n",
    "             \"testing\":'../icwb2-data/testing'}"
   ]
  },
  {
   "cell_type": "code",
   "execution_count": 163,
   "metadata": {},
   "outputs": [],
   "source": [
    "class Preprocess(object):\n",
    "    def __init__(self, dataset_path):\n",
    "        self.dataset_path = dataset_path\n",
    "        \n",
    "    def deleteFiles(self, extension = '.txt'):\n",
    "        '''\n",
    "        Deletes all the .txt files in a given directory\n",
    "        Only done to get rid of duplicate .txt files as I am using .utf8 files for training\n",
    "        '''\n",
    "        print(\"Deleteing {} files from {}\".format(extension, self.dataset_path))\n",
    "        for path, subdir, files in os.walk(self.dataset_path):\n",
    "            for name in files: \n",
    "                if name.endswith(extension):\n",
    "                    os.system('rm '+ os.path.join(self.dataset_path,name))\n",
    "                    print('Succesfully removed: {}'.format(name))\n",
    "            print(\"Done\\n\")\n",
    "\n",
    "    def hanzi_convert(self, input_file):\n",
    "        '''transoforms a file form Traditional to Simplified Chinese'''\n",
    "        \n",
    "        _, _, name_, format_ = input_file.split(\".\")\n",
    "        file_name_input = name_.split('/')[-1]\n",
    "        name_ += '_simplified.' + format_\n",
    "        file_name_output = name_.split('/')[-1]\n",
    "\n",
    "        bash_ = 'hanzi-convert -s ' + input_file + ' > ' + name_\n",
    "        os.system(bash_)\n",
    "        print(\"Created {}\".format(file_name_output))\n",
    "        \n",
    "    def traditionalToSimplified(self):\n",
    "        count=0\n",
    "        len_ = len(os.listdir(self.dataset_path))\n",
    "        print(\"start for path: {}\\n\".format(self.dataset_path))\n",
    "        for path, subdir, files in os.walk(self.dataset_path):\n",
    "            for name in files: \n",
    "                x = os.path.join(self.dataset_path, name)\n",
    "                self.hanzi_convert(x)\n",
    "                count+=1\n",
    "                print(\">>>{}/{} complete============\\n\".format(count, len_))\n",
    "        print(\"end\\n\")\n",
    "#         return None\n",
    "    \n",
    "    def action(self, action_type):\n",
    "        count=0\n",
    "        len_ = len(os.listdir(self.dataset_path))\n",
    "        print(\"start for path: {}\\n\".format(self.dataset_path))\n",
    "        for path, subdir, files in os.walk(self.dataset_path):\n",
    "            for name in files: \n",
    "                x = os.path.join(self.dataset_path, name)\n",
    "                print(\"File: {}\".format(x))\n",
    "                if action_type == 'translate': \n",
    "                    self.hanzi_convert(x)\n",
    "                elif action_type == 'InputFile':\n",
    "                    self.InputFile(x)\n",
    "                elif action_type == 'LabelFile':\n",
    "                    self.FileToBIES(x)   \n",
    "                count+=1\n",
    "                print(\">>>{}/{} complete============\\n\".format(count, len_))\n",
    "        print(\"end\\n\")\n",
    "        return None\n",
    "    \n",
    "    \n",
    "    \n",
    "    def InputFile(self, input_file):\n",
    "        '''creates a file to feed to the TF model by getting rid of spaces'''\n",
    "        pass\n",
    "    \n",
    "    \n",
    "    \n",
    "    \n",
    "    @staticmethod\n",
    "    def encoder(line, type_of_file, verbose = False):\n",
    "        '''encodes a single line'''\n",
    "\n",
    "        new_line = ''\n",
    "\n",
    "        #uses the +u3000 seperator if the file is 'AS'\n",
    "        words = line.rstrip().split(\"\\u3000\") if type_of_file == 'as' else line.rstrip().split(\" \")\n",
    "        #print(\"N of segments:\",len(words))\n",
    "\n",
    "        def bies_format(word):\n",
    "            '''changes word to BIES format'''\n",
    "            return 'B'+'I'*int(len(word)-2)+'E' if len(word)>1 else 'S'\n",
    "\n",
    "        for word in words:\n",
    "            if verbose: print(\"this is a word: {} of length {}\".format(word, len(word)))\n",
    "            new_line+=bies_format(word)\n",
    "\n",
    "        return new_line\n",
    "\n",
    "    def FileToBIES(self, file_path):\n",
    "        '''gives a file in utf converts to a txt in with all lines in the BIES format'''\n",
    "\n",
    "\n",
    "        #print(\"HERE:\",file_path)\n",
    "        name_ = file_path.split(\"/\")[-1].split(\".\")[0] + '_labels'\n",
    "        #print(\"NAME\",name_, file_path)\n",
    "        type_of_file = name_.split(\"/\")[-1].split('_')[0] #to see if its an 'AS' file\n",
    "\n",
    "        with open(file_path, 'r', encoding ='utf8') as f1, open(name_+\".txt\", \"w\") as f2:\n",
    "            c=0\n",
    "            for line in f1:\n",
    "                c+=1\n",
    "                #print(\"input line:\\t\",line.rstrip())\n",
    "                out = encoder(line, type_of_file)\n",
    "                #print(\"output line:\\t{}\".format(out))\n",
    "                f2.writelines(out+\"\\n\")\n",
    "        return None\n",
    "    "
   ]
  },
  {
   "cell_type": "code",
   "execution_count": 164,
   "metadata": {},
   "outputs": [
    {
     "name": "stdout",
     "output_type": "stream",
     "text": [
      "Deleteing .txt files from ../icwb2-data/training\n",
      "Done\n",
      "\n"
     ]
    },
    {
     "ename": "AttributeError",
     "evalue": "'Preprocess' object has no attribute 'deletefiles'",
     "output_type": "error",
     "traceback": [
      "\u001b[0;31m---------------------------------------------------------------------------\u001b[0m",
      "\u001b[0;31mAttributeError\u001b[0m                            Traceback (most recent call last)",
      "\u001b[0;32m~/Desktop/Chinese-LSTM/code/msr_training_labels.txt\u001b[0m in \u001b[0;36m<module>\u001b[0;34m()\u001b[0m\n\u001b[1;32m      2\u001b[0m \u001b[0mP\u001b[0m \u001b[0;34m=\u001b[0m \u001b[0mPreprocess\u001b[0m\u001b[0;34m(\u001b[0m\u001b[0mdatasets\u001b[0m\u001b[0;34m[\u001b[0m\u001b[0;34m'training'\u001b[0m\u001b[0;34m]\u001b[0m\u001b[0;34m)\u001b[0m\u001b[0;34m\u001b[0m\u001b[0m\n\u001b[1;32m      3\u001b[0m \u001b[0mP\u001b[0m\u001b[0;34m.\u001b[0m\u001b[0mdeleteFiles\u001b[0m\u001b[0;34m(\u001b[0m\u001b[0;34m'.txt'\u001b[0m\u001b[0;34m)\u001b[0m\u001b[0;34m\u001b[0m\u001b[0m\n\u001b[0;32m----> 4\u001b[0;31m \u001b[0mP\u001b[0m\u001b[0;34m.\u001b[0m\u001b[0mdeletefiles\u001b[0m\u001b[0;34m(\u001b[0m\u001b[0;34m'.b5'\u001b[0m\u001b[0;34m)\u001b[0m\u001b[0;34m\u001b[0m\u001b[0m\n\u001b[0m\u001b[1;32m      5\u001b[0m \u001b[0;31m#P.traditionalToSimplified()\u001b[0m\u001b[0;34m\u001b[0m\u001b[0;34m\u001b[0m\u001b[0m\n\u001b[1;32m      6\u001b[0m \u001b[0mP\u001b[0m\u001b[0;34m.\u001b[0m\u001b[0maction\u001b[0m\u001b[0;34m(\u001b[0m\u001b[0;34m'LabelFile'\u001b[0m\u001b[0;34m)\u001b[0m\u001b[0;34m\u001b[0m\u001b[0m\n",
      "\u001b[0;31mAttributeError\u001b[0m: 'Preprocess' object has no attribute 'deletefiles'"
     ]
    }
   ],
   "source": [
    "\n",
    "P = Preprocess(datasets['training'])\n",
    "P.deleteFiles('.txt')\n",
    "P.deletefiles('.b5')\n",
    "#P.traditionalToSimplified()\n",
    "P.action('LabelFile')"
   ]
  },
  {
   "cell_type": "code",
   "execution_count": 165,
   "metadata": {},
   "outputs": [
    {
     "name": "stdout",
     "output_type": "stream",
     "text": [
      "Deleteing .b5 files from ../icwb2-data/training\n",
      "Done\n",
      "\n"
     ]
    }
   ],
   "source": [
    "P.deleteFiles('.b5')"
   ]
  },
  {
   "cell_type": "code",
   "execution_count": 166,
   "metadata": {},
   "outputs": [
    {
     "name": "stdout",
     "output_type": "stream",
     "text": [
      "start for path: ../icwb2-data/training\n",
      "\n",
      "Created msr_training_simplified.utf8\n",
      ">>>1/4 complete============\n",
      "\n",
      "Created cityu_training_simplified.utf8\n",
      ">>>2/4 complete============\n",
      "\n",
      "Created as_training_simplified.utf8\n",
      ">>>3/4 complete============\n",
      "\n",
      "Created pku_training_simplified.utf8\n",
      ">>>4/4 complete============\n",
      "\n",
      "end\n",
      "\n"
     ]
    }
   ],
   "source": [
    "P.traditionalToSimplified()"
   ]
  },
  {
   "cell_type": "code",
   "execution_count": 170,
   "metadata": {},
   "outputs": [
    {
     "name": "stdout",
     "output_type": "stream",
     "text": [
      "Help on function encoder in module __main__:\n",
      "\n",
      "encoder(line, type_of_file, verbose=False)\n",
      "    encodes a single line\n",
      "\n"
     ]
    }
   ],
   "source": [
    "help(encoder)"
   ]
  },
  {
   "cell_type": "code",
   "execution_count": null,
   "metadata": {},
   "outputs": [],
   "source": []
  }
 ],
 "metadata": {
  "kernelspec": {
   "display_name": "Python 3",
   "language": "python",
   "name": "python3"
  },
  "language_info": {
   "codemirror_mode": {
    "name": "ipython",
    "version": 3
   },
   "file_extension": ".py",
   "mimetype": "text/x-python",
   "name": "python",
   "nbconvert_exporter": "python",
   "pygments_lexer": "ipython3",
   "version": "3.6.4"
  }
 },
 "nbformat": 4,
 "nbformat_minor": 2
}
