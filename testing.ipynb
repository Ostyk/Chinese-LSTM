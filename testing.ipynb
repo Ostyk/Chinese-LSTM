{
 "cells": [
  {
   "cell_type": "markdown",
   "metadata": {},
   "source": [
    "## Datasets\n",
    "* AS (Traditional Chinese) http://www.khngai.com/chinese/charmap/tblbig.php?page=0\n",
    "* CITYU (Traditional Chinese)\n",
    "* MSR (Simplified Chinese)\n",
    "* PKU (Simplified Chinese)\n",
    "\n",
    "\n",
    "- Each dataset has one train and one dev set\n",
    "- You can find the train datasets in the training folder\n",
    "- Your dev set is in the gold folder\n",
    "- For each dataset use the file with the .utf8 extension\n",
    " "
   ]
  },
  {
   "cell_type": "code",
   "execution_count": 1,
   "metadata": {
    "scrolled": true
   },
   "outputs": [],
   "source": [
    "import os\n",
    "\n",
    "path_training='icwb2-data/training'\n",
    "path_dev='icwb2-data/gold'\n",
    "path_testing='icwb2-data/testing'\n",
    "\n",
    "datasets = [path_training, path_dev, path_testing]\n",
    "def walk_dir(path):\n",
    "    count=0\n",
    "    len_ = len(os.listdir(path))\n",
    "    print(\"start for path: {}\\n\".format(path))\n",
    "    for path, subdir, files in os.walk(path):\n",
    "        for name in files: \n",
    "            x = os.path.join(path,name)\n",
    "            TraditionalToSimplifiedChinese(x)\n",
    "            count+=1\n",
    "            print(\">>>{}/{} complete============\\n\".format(count, len_))\n",
    "    print(\"end\\n\")\n",
    "    return None\n",
    "\n",
    "def TraditionalToSimplifiedChinese(input_file):\n",
    "    '''transforms files'''\n",
    "    \n",
    "    name_, format_ = input_file.split(\".\")\n",
    "    file_name_input = name_.split('/')[-1]\n",
    "    \n",
    "    name_ += '_simplified.' + format_\n",
    "    file_name_output = name_.split('/')[-1]\n",
    "    \n",
    "    bash_ = 'hanzi-convert -s ' + input_file + ' > ' + name_\n",
    "    os.system(bash_)\n",
    "    print(\"Created {}\".format(file_name_output))\n",
    "    #os.system('rm '+ input_file)\n",
    "    #print(\"Deleted {}\".format(file_name_input))\n",
    "    return None\n",
    "\n",
    "#if __main__ == '__name__':\n",
    "#[walk_dir(i) for i in datasets]\n",
    "#walk_dir(path_training)"
   ]
  },
  {
   "cell_type": "code",
   "execution_count": 2,
   "metadata": {},
   "outputs": [],
   "source": [
    "class BIES(object):\n",
    "    \n",
    "    def __init__(self):\n",
    "        self.word = word\n",
    "        \n",
    "    \n",
    "    def encode(self):\n",
    "        pass\n",
    "    \n",
    "    def decode(self):\n",
    "        pass"
   ]
  },
  {
   "cell_type": "code",
   "execution_count": null,
   "metadata": {},
   "outputs": [],
   "source": [
    "\n"
   ]
  },
  {
   "cell_type": "code",
   "execution_count": 101,
   "metadata": {},
   "outputs": [],
   "source": [
    "def encoder(line, type_of_file, verbose = False):\n",
    "    '''encodes a single line'''\n",
    "    \n",
    "    new_line = ''\n",
    "        \n",
    "    #uses the +u3000 seperator if the file is 'AS'\n",
    "    words = line.rstrip().split(\"\\u3000\") if type_of_file == 'as' else line.rstrip().split(\" \")\n",
    "    print(\"N of segments:\",len(words))\n",
    "    \n",
    "    def bies_format(word):\n",
    "        '''changes word to BIES format'''\n",
    "        return 'B'+'I'*int(len(word)-2)+'E' if len(word)>1 else 'S'\n",
    "    \n",
    "    for word in words:\n",
    "        if verbose: print(\"this is a word: {} of length {}\".format(word, len(word)))\n",
    "        new_line+=bies_format(word)\n",
    "        \n",
    "    return new_line\n",
    "\n",
    "def FileToBIES(file_path):\n",
    "    '''gives a file in utf converts to a txt in with all lines in the BIES format'''\n",
    "\n",
    "    name_ = file_path.split(\".\")[-2] + '_labels'\n",
    "    type_of_file = name_.split(\"/\")[-1].split('_')[0] #to see if its an 'AS' file\n",
    "    \n",
    "    with open(file_path, 'r', encoding ='utf8') as f1, open(name_+\".txt\", \"w\") as f2:\n",
    "        c=0\n",
    "        for line in f1:\n",
    "            c+=1\n",
    "            print(\"input line:\\t\",line.rstrip())\n",
    "            out = encoder(line, type_of_file)\n",
    "            print(\"output line:\\t{}\".format(out))\n",
    "            f2.writelines(out+\"\\n\")\n",
    "            if c==2:\n",
    "                break\n",
    "    return None"
   ]
  },
  {
   "cell_type": "code",
   "execution_count": 102,
   "metadata": {
    "scrolled": true
   },
   "outputs": [
    {
     "name": "stdout",
     "output_type": "stream",
     "text": [
      "input line:\t 迈向  充满  希望  的  新  世纪  ——  一九九八年  新年  讲话  （  附  图片  １  张  ）\n",
      "N of segments: 31\n",
      "output line:\tBESBESBESSSSSBESBESBIIIESBESBESSSSSBESSSSSS\n",
      "input line:\t 中共中央  总书记  、  国家  主席  江  泽民\n",
      "N of segments: 13\n",
      "output line:\tBIIESBIESSSBESBESSSBE\n"
     ]
    }
   ],
   "source": [
    "FileToBIES(file_path = 'icwb2-data/training/pku_training.utf8')"
   ]
  },
  {
   "cell_type": "code",
   "execution_count": 103,
   "metadata": {},
   "outputs": [
    {
     "name": "stdout",
     "output_type": "stream",
     "text": [
      "input line:\t “  人们  常  说  生活  是  一  部  教科书  ，  而  血  与  火  的  战争  更  是  不可多得  的  教科书  ，  她  确实  是  名副其实  的  ‘  我  的  大学  ’  。\n",
      "N of segments: 65\n",
      "output line:\tSSBESSSSSBESSSSSSSBIESSSSSSSSSSSSSBESSSSSBIIESSSBIESSSSSBESSSBIIESSSSSSSSSBESSSS\n",
      "input line:\t “  心  静  渐  知  春  似  海  ，  花  深  每  觉  影  生  香  。\n",
      "N of segments: 33\n",
      "output line:\tSSSSSSSSSSSSSSSSSSSSSSSSSSSSSSSSS\n"
     ]
    }
   ],
   "source": [
    "FileToBIES(file_path = 'icwb2-data/training/msr_training.utf8')"
   ]
  },
  {
   "cell_type": "code",
   "execution_count": 104,
   "metadata": {},
   "outputs": [
    {
     "name": "stdout",
     "output_type": "stream",
     "text": [
      "input line:\t 立會 選情 告一段落 民主 進程 還 看 明天\n",
      "N of segments: 8\n",
      "output line:\tBEBEBIIEBEBESSBE\n",
      "input line:\t 立法會 選舉 出現 了 戲劇性 的 結果 ， 儘管 投票率 創下 新高 ， 而 過去 經驗 顯示 高 投票率 對 民主派 較 有利 ， 但 由於 名單 協調 不當 及 配票 策略 失誤 ， 加上 醜聞 影響 選情 ， 民主黨 的 議席 比 上 一 屆 減少 ， 由 第 一 大 黨 跌 至 第 三 ；\n",
      "N of segments: 58\n",
      "output line:\tBIEBEBESBIESBESBEBIEBEBESSBEBEBESBIESBIESBESSBEBEBEBESBEBEBESBEBEBEBESBIESBESSSSBESSSSSSSSSSS\n"
     ]
    }
   ],
   "source": [
    "FileToBIES(file_path = 'icwb2-data/training/cityu_training.utf8')"
   ]
  },
  {
   "cell_type": "code",
   "execution_count": 105,
   "metadata": {},
   "outputs": [
    {
     "name": "stdout",
     "output_type": "stream",
     "text": [
      "input line:\t 時間　：\n",
      "N of segments: 2\n",
      "output line:\tBES\n",
      "input line:\t 三月　十日　（　星期四　）　上午　十時　。\n",
      "N of segments: 8\n",
      "output line:\tBEBESBIESBEBES\n"
     ]
    }
   ],
   "source": [
    "FileToBIES(file_path = 'icwb2-data/training/as_training.utf8')"
   ]
  },
  {
   "cell_type": "code",
   "execution_count": 106,
   "metadata": {},
   "outputs": [
    {
     "name": "stdout",
     "output_type": "stream",
     "text": [
      "input line:\t 分佈　：\n",
      "N of segments: 1\n",
      "output line:\tBIIE\n",
      "input line:\t 主要　分佈　在　熱帶　及　亞熱帶　水域　，\n",
      "N of segments: 1\n",
      "output line:\tBIIIIIIIIIIIIIIIIIIIE\n"
     ]
    }
   ],
   "source": [
    "FileToBIES(file_path = 'sample_files/sample_icwb2.utf8')"
   ]
  },
  {
   "cell_type": "markdown",
   "metadata": {},
   "source": [
    "## TO DO\n",
    "1. read original file in a train/dev/test fodler\n",
    "2. produce an input file with NO spaces\n",
    "3. and a label file in BIES format"
   ]
  },
  {
   "cell_type": "code",
   "execution_count": null,
   "metadata": {},
   "outputs": [],
   "source": []
  }
 ],
 "metadata": {
  "kernelspec": {
   "display_name": "Python 3",
   "language": "python",
   "name": "python3"
  },
  "language_info": {
   "codemirror_mode": {
    "name": "ipython",
    "version": 3
   },
   "file_extension": ".py",
   "mimetype": "text/x-python",
   "name": "python",
   "nbconvert_exporter": "python",
   "pygments_lexer": "ipython3",
   "version": "3.6.4"
  }
 },
 "nbformat": 4,
 "nbformat_minor": 2
}
