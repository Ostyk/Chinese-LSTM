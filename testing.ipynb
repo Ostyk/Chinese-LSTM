{
 "cells": [
  {
   "cell_type": "markdown",
   "metadata": {},
   "source": [
    "## Datasets\n",
    "* AS (Traditional Chinese)\n",
    "* CITYU (Traditional Chinese)\n",
    "* MSR (Simplified Chinese)\n",
    "* PKU (Simplified Chinese)\n",
    "\n",
    "\n",
    "- Each dataset has one train and one dev set\n",
    "- You can find the train datasets in the training folder\n",
    "- Your dev set is in the gold folder\n",
    "- For each dataset use the file with the .utf8 extension\n",
    " "
   ]
  },
  {
   "cell_type": "code",
   "execution_count": 22,
   "metadata": {},
   "outputs": [],
   "source": [
    "import os\n",
    "\n",
    "path_training='icwb2-data/training'\n",
    "path_dev='icwb2-data/gold'\n",
    "path_testing='icwb2-data/training'\n",
    "\n",
    "datasets = [path_training, path_dev, path_testing]\n",
    "def walk_dir(path):\n",
    "    count=0\n",
    "    len_ = len(os.listdir(path))\n",
    "    print(\"start for path: {}\\n\".format(path))\n",
    "    for path, subdir, files in os.walk(path):\n",
    "       for name in files: \n",
    "            x = os.path.join(path,name)\n",
    "            #TraditionalToSimplifiedChinese(x)\n",
    "            count+=1\n",
    "            print(\">>>{}/{} complete============\\n\".format(count, len_))\n",
    "    print(\"end\\n\")\n",
    "    return None\n",
    "\n",
    "def labelFileGenerator():\n",
    "    '''given the original file, create a label file in the BIES format'''\n",
    "    pass\n",
    "\n",
    "def TraditionalToSimplifiedChinese(input_file):\n",
    "    '''transforms files'''\n",
    "    \n",
    "    name_, format_ = input_file.split(\".\")\n",
    "    file_name_input = name_.split('/')[-1]\n",
    "    \n",
    "    name_ += '_simplified.' + format_\n",
    "    file_name_output = name_.split('/')[-1]\n",
    "    \n",
    "    bash_ = 'hanzi-convert -s' + input_file + '>' + name_\n",
    "    \n",
    "    #os.system(bash_)\n",
    "    print(\"Created {}\".format(file_name_output))\n",
    "    #os.system('rm '+ input_file)\n",
    "    print(\"Deleted {}\".format(file_name_input))\n",
    "    return None\n",
    "\n",
    "#if __main__ == '__name__':\n",
    "#[walk_dir(i) for i in datasets]"
   ]
  },
  {
   "cell_type": "code",
   "execution_count": null,
   "metadata": {},
   "outputs": [],
   "source": [
    "TraditionalToSimplifiedChinese(files_[0][1])"
   ]
  },
  {
   "cell_type": "code",
   "execution_count": 25,
   "metadata": {},
   "outputs": [
    {
     "name": "stdout",
     "output_type": "stream",
     "text": [
      "icwb2-data/training/msr_training.txt\n",
      "icwb2-data/training/msr_training.utf8\n",
      "icwb2-data/training/cityu_training.utf8\n",
      "icwb2-data/training/pku_training.txt\n",
      "icwb2-data/training/as_training.b5\n",
      "icwb2-data/training/as_training.utf8\n",
      "icwb2-data/training/cityu_training.txt\n",
      "icwb2-data/training/pku_training.utf8\n"
     ]
    }
   ],
   "source": [
    "for path, subdir, files in os.walk(path_training):\n",
    "       for name in files: \n",
    "            x = os.path.join(path,name)\n",
    "            print(x)"
   ]
  },
  {
   "cell_type": "code",
   "execution_count": 30,
   "metadata": {},
   "outputs": [],
   "source": [
    "f = open('icwb2-data/training/msr_training.utf8')"
   ]
  },
  {
   "cell_type": "code",
   "execution_count": 31,
   "metadata": {},
   "outputs": [],
   "source": [
    "x = f.readlines()"
   ]
  },
  {
   "cell_type": "code",
   "execution_count": 32,
   "metadata": {},
   "outputs": [
    {
     "data": {
      "text/plain": [
       "'“  人们  常  说  生活  是  一  部  教科书  ，  而  血  与  火  的  战争  更  是  不可多得  的  教科书  ，  她  确实  是  名副其实  的  ‘  我  的  大学  ’  。\\n'"
      ]
     },
     "execution_count": 32,
     "metadata": {},
     "output_type": "execute_result"
    }
   ],
   "source": [
    "x[0]"
   ]
  },
  {
   "cell_type": "code",
   "execution_count": null,
   "metadata": {},
   "outputs": [],
   "source": []
  },
  {
   "cell_type": "code",
   "execution_count": null,
   "metadata": {},
   "outputs": [],
   "source": []
  },
  {
   "cell_type": "markdown",
   "metadata": {},
   "source": [
    "## TO DO\n",
    "1. read original file in a train/dev/test fodler\n",
    "2. produce an input file with NO spaces\n",
    "3. and a label file in BIES format"
   ]
  },
  {
   "cell_type": "code",
   "execution_count": 11,
   "metadata": {},
   "outputs": [
    {
     "data": {
      "text/plain": [
       "9"
      ]
     },
     "execution_count": 11,
     "metadata": {},
     "output_type": "execute_result"
    }
   ],
   "source": [
    "len(os.listdir())"
   ]
  },
  {
   "cell_type": "code",
   "execution_count": null,
   "metadata": {},
   "outputs": [],
   "source": []
  }
 ],
 "metadata": {
  "kernelspec": {
   "display_name": "Python 3",
   "language": "python",
   "name": "python3"
  },
  "language_info": {
   "codemirror_mode": {
    "name": "ipython",
    "version": 3
   },
   "file_extension": ".py",
   "mimetype": "text/x-python",
   "name": "python",
   "nbconvert_exporter": "python",
   "pygments_lexer": "ipython3",
   "version": "3.6.4"
  }
 },
 "nbformat": 4,
 "nbformat_minor": 2
}
