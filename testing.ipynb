{
 "cells": [
  {
   "cell_type": "markdown",
   "metadata": {},
   "source": [
    "## Datasets\n",
    "* AS (Traditional Chinese)\n",
    "* CITYU (Traditional Chinese)\n",
    "* MSR (Simplified Chinese)\n",
    "* PKU (Simplified Chinese)\n",
    "\n",
    "\n",
    "- Each dataset has one train and one dev set\n",
    "- You can find the train datasets in the training folder\n",
    "- Your dev set is in the gold folder\n",
    "- For each dataset use the file with the .utf8 extension\n",
    " "
   ]
  },
  {
   "cell_type": "code",
   "execution_count": 1,
   "metadata": {},
   "outputs": [],
   "source": [
    "import os\n",
    "\n",
    "path_training='icwb2-data/training'\n",
    "path_dev='icwb2-data/gold'\n",
    "path_testing='icwb2-data/training'\n",
    "\n",
    "datasets = [path_training, path_dev, path_testing]\n",
    "def walk_dir(path):\n",
    "    count=0\n",
    "    len_ = len(os.listdir(path))\n",
    "    print(\"start for path: {}\\n\".format(path))\n",
    "    for path, subdir, files in os.walk(path):\n",
    "       for name in files: \n",
    "            x = os.path.join(path,name)\n",
    "            #TraditionalToSimplifiedChinese(x)\n",
    "            count+=1\n",
    "            print(\">>>{}/{} complete============\\n\".format(count, len_))\n",
    "    print(\"end\\n\")\n",
    "    return None\n",
    "\n",
    "def labelFileGenerator():\n",
    "    '''given the original file, create a label file in the BIES format'''\n",
    "    pass\n",
    "\n",
    "def TraditionalToSimplifiedChinese(input_file):\n",
    "    '''transforms files'''\n",
    "    \n",
    "    name_, format_ = input_file.split(\".\")\n",
    "    file_name_input = name_.split('/')[-1]\n",
    "    \n",
    "    name_ += '_simplified.' + format_\n",
    "    file_name_output = name_.split('/')[-1]\n",
    "    \n",
    "    bash_ = 'hanzi-convert -s' + input_file + '>' + name_\n",
    "    \n",
    "    os.system(bash_)\n",
    "    #print(\"Created {}\".format(file_name_output))\n",
    "    #os.system('rm '+ input_file)\n",
    "    #print(\"Deleted {}\".format(file_name_input))\n",
    "    return None\n",
    "\n",
    "#if __main__ == '__name__':\n",
    "#[walk_dir(i) for i in datasets]"
   ]
  },
  {
   "cell_type": "code",
   "execution_count": 2,
   "metadata": {},
   "outputs": [],
   "source": [
    "class BIES(object):\n",
    "    \n",
    "    def __init__(self):\n",
    "        self.word = word\n",
    "        \n",
    "    \n",
    "    def encode(self):\n",
    "        pass\n",
    "    \n",
    "    def decode(self):\n",
    "        pass"
   ]
  },
  {
   "cell_type": "code",
   "execution_count": null,
   "metadata": {},
   "outputs": [],
   "source": [
    "\n"
   ]
  },
  {
   "cell_type": "code",
   "execution_count": 3,
   "metadata": {},
   "outputs": [],
   "source": [
    "def encoder(line, verbose = False):\n",
    "    '''encodes a single line'''\n",
    "    \n",
    "    new_line = ''\n",
    "    words = line.rstrip().split(\"\\u3000\")\n",
    "    \n",
    "    def bies_format(word):\n",
    "        '''changes word to BIES format'''\n",
    "        return 'B'+'I'*int(len(word)-2)+'E' if len(word)>1 else 'S'\n",
    "    \n",
    "    for word in words:\n",
    "        if verbose: print(\"this is a word: {} of length {}\".format(word, len(word)))\n",
    "        new_line+=bies_format(word)\n",
    "    return new_line"
   ]
  },
  {
   "cell_type": "code",
   "execution_count": 17,
   "metadata": {},
   "outputs": [
    {
     "name": "stdout",
     "output_type": "stream",
     "text": [
      "分佈　：\n",
      "\n",
      "主要　分佈　在　熱帶　及　亞熱帶　水域　，\n",
      "\n",
      "溫帶　水域　亦　有　其　活動　記錄　。\n",
      "\n"
     ]
    }
   ],
   "source": [
    "def FileToBIES(file_path):\n",
    "    '''gives a file in utf converts to a txt in with all lines in the BIES format'''\n",
    "\n",
    "    name_ = file_path.split(\".\")[-2] + '_labels'\n",
    "    with open(file_path, 'r', encoding ='utf8') as f1, open(name_+\".txt\", \"w\") as f2:\n",
    "        for line in f1:\n",
    "            print(line)\n",
    "            f2.writelines(encoder(line)+\"\\n\")\n",
    "    return None\n",
    "\n",
    "FileToBIES(file_path = 'sample_files/sample_icwb2.utf8')"
   ]
  },
  {
   "cell_type": "code",
   "execution_count": 18,
   "metadata": {},
   "outputs": [
    {
     "name": "stdout",
     "output_type": "stream",
     "text": [
      "共同 创造 美好 的 新 世纪 ——\n"
     ]
    }
   ],
   "source": [
    "FileToBIES(file_path = 'sample_files/test.utf8')"
   ]
  },
  {
   "cell_type": "markdown",
   "metadata": {},
   "source": [
    "## TO DO\n",
    "1. read original file in a train/dev/test fodler\n",
    "2. produce an input file with NO spaces\n",
    "3. and a label file in BIES format"
   ]
  },
  {
   "cell_type": "code",
   "execution_count": null,
   "metadata": {},
   "outputs": [],
   "source": []
  }
 ],
 "metadata": {
  "kernelspec": {
   "display_name": "Python 3",
   "language": "python",
   "name": "python3"
  },
  "language_info": {
   "codemirror_mode": {
    "name": "ipython",
    "version": 3
   },
   "file_extension": ".py",
   "mimetype": "text/x-python",
   "name": "python",
   "nbconvert_exporter": "python",
   "pygments_lexer": "ipython3",
   "version": "3.6.4"
  }
 },
 "nbformat": 4,
 "nbformat_minor": 2
}
